{
 "cells": [
  {
   "cell_type": "markdown",
   "metadata": {
    "_cell_guid": "d4c08f48-fe23-4ddb-ac46-d97f05397514",
    "_uuid": "f2156d1dd26a1243e18512002e10872c5bd7271e"
   },
   "source": [
    "# Optimization of CNN - TPE\n",
    "\n",
    "In this notebook, we will optimize the hyperparameters of a CNN using the define-by-run model from Optuna."
   ]
  },
  {
   "cell_type": "code",
   "execution_count": 1,
   "metadata": {},
   "outputs": [],
   "source": [
    "# For reproducible results.\n",
    "# See: \n",
    "# https://keras.io/getting_started/faq/#how-can-i-obtain-reproducible-results-using-keras-during-development\n",
    "\n",
    "import os\n",
    "os.environ['PYTHONHASHSEED'] = '0'\n",
    "\n",
    "import numpy as np\n",
    "import tensorflow as tf\n",
    "import random as python_random\n",
    "\n",
    "# The below is necessary for starting Numpy generated random numbers\n",
    "# in a well-defined initial state.\n",
    "np.random.seed(123)\n",
    "\n",
    "# The below is necessary for starting core Python generated random numbers\n",
    "# in a well-defined state.\n",
    "python_random.seed(123)\n",
    "\n",
    "# The below set_seed() will make random number generation\n",
    "# in the TensorFlow backend have a well-defined initial state.\n",
    "# For further details, see:\n",
    "# https://www.tensorflow.org/api_docs/python/tf/random/set_seed\n",
    "tf.random.set_seed(1234)"
   ]
  },
  {
   "cell_type": "code",
   "execution_count": 2,
   "metadata": {
    "_cell_guid": "f67b9393-8ea1-4e23-b856-2ce149cfe421",
    "_execution_state": "idle",
    "_uuid": "72334cb006d02a4bcfc2a2fe622524eba824c6f8"
   },
   "outputs": [],
   "source": [
    "import itertools\n",
    "from functools import partial\n",
    "\n",
    "import pandas as pd\n",
    "import matplotlib.pyplot as plt\n",
    "import seaborn as sns\n",
    "\n",
    "from sklearn.model_selection import train_test_split\n",
    "from sklearn.metrics import confusion_matrix"
   ]
  },
  {
   "cell_type": "code",
   "execution_count": 3,
   "metadata": {},
   "outputs": [],
   "source": [
    "from keras.utils.np_utils import to_categorical\n",
    "from keras.models import Sequential, load_model\n",
    "from keras.layers import Dense, Flatten, Conv2D, MaxPool2D\n",
    "from keras.optimizers import Adam, RMSprop"
   ]
  },
  {
   "cell_type": "code",
   "execution_count": 4,
   "metadata": {},
   "outputs": [],
   "source": [
    "import optuna"
   ]
  },
  {
   "cell_type": "markdown",
   "metadata": {
    "_cell_guid": "6d2fb3e6-ab71-4974-b5a2-4af1ebdb99f4",
    "_execution_state": "idle",
    "_uuid": "86061d98eccaa02efe0dab0fa3884e71fcf4c310"
   },
   "source": [
    "#  Data Preparation\n",
    "\n",
    "The dataset contains information about images, each image is a hand-written digit. The aim is to have the computer predict which digit was written by the person, automatically, by \"looking\" at the image. \n",
    "\n",
    "Each image is 28 pixels in height and 28 pixels in width (28 x 28), making a total of 784 pixels. Each pixel value is an integer between 0 and 255, indicating the darkness in a gray-scale of that pixel.\n",
    "\n",
    "The data is stored in a dataframe where each each pixel is a column (so it is flattened and not in the 28 x 28 format). \n",
    "\n",
    "The data set the has 785 columns. The first column, called \"label\", is the digit that was drawn by the user. The rest of the columns contain the pixel-values of the associated image."
   ]
  },
  {
   "cell_type": "code",
   "execution_count": 5,
   "metadata": {
    "_cell_guid": "5e51d00e-62fd-4141-bf73-50ac4f2da7d0",
    "_execution_state": "idle",
    "_uuid": "84bbd5ab8d7895bd430d5ecfe2f7ddf77baa7b74"
   },
   "outputs": [
    {
     "data": {
      "text/html": [
       "<div>\n",
       "<style scoped>\n",
       "    .dataframe tbody tr th:only-of-type {\n",
       "        vertical-align: middle;\n",
       "    }\n",
       "\n",
       "    .dataframe tbody tr th {\n",
       "        vertical-align: top;\n",
       "    }\n",
       "\n",
       "    .dataframe thead th {\n",
       "        text-align: right;\n",
       "    }\n",
       "</style>\n",
       "<table border=\"1\" class=\"dataframe\">\n",
       "  <thead>\n",
       "    <tr style=\"text-align: right;\">\n",
       "      <th></th>\n",
       "      <th>label</th>\n",
       "      <th>pixel0</th>\n",
       "      <th>pixel1</th>\n",
       "      <th>pixel2</th>\n",
       "      <th>pixel3</th>\n",
       "      <th>pixel4</th>\n",
       "      <th>pixel5</th>\n",
       "      <th>pixel6</th>\n",
       "      <th>pixel7</th>\n",
       "      <th>pixel8</th>\n",
       "      <th>...</th>\n",
       "      <th>pixel774</th>\n",
       "      <th>pixel775</th>\n",
       "      <th>pixel776</th>\n",
       "      <th>pixel777</th>\n",
       "      <th>pixel778</th>\n",
       "      <th>pixel779</th>\n",
       "      <th>pixel780</th>\n",
       "      <th>pixel781</th>\n",
       "      <th>pixel782</th>\n",
       "      <th>pixel783</th>\n",
       "    </tr>\n",
       "  </thead>\n",
       "  <tbody>\n",
       "    <tr>\n",
       "      <th>0</th>\n",
       "      <td>1</td>\n",
       "      <td>0</td>\n",
       "      <td>0</td>\n",
       "      <td>0</td>\n",
       "      <td>0</td>\n",
       "      <td>0</td>\n",
       "      <td>0</td>\n",
       "      <td>0</td>\n",
       "      <td>0</td>\n",
       "      <td>0</td>\n",
       "      <td>...</td>\n",
       "      <td>0</td>\n",
       "      <td>0</td>\n",
       "      <td>0</td>\n",
       "      <td>0</td>\n",
       "      <td>0</td>\n",
       "      <td>0</td>\n",
       "      <td>0</td>\n",
       "      <td>0</td>\n",
       "      <td>0</td>\n",
       "      <td>0</td>\n",
       "    </tr>\n",
       "    <tr>\n",
       "      <th>1</th>\n",
       "      <td>0</td>\n",
       "      <td>0</td>\n",
       "      <td>0</td>\n",
       "      <td>0</td>\n",
       "      <td>0</td>\n",
       "      <td>0</td>\n",
       "      <td>0</td>\n",
       "      <td>0</td>\n",
       "      <td>0</td>\n",
       "      <td>0</td>\n",
       "      <td>...</td>\n",
       "      <td>0</td>\n",
       "      <td>0</td>\n",
       "      <td>0</td>\n",
       "      <td>0</td>\n",
       "      <td>0</td>\n",
       "      <td>0</td>\n",
       "      <td>0</td>\n",
       "      <td>0</td>\n",
       "      <td>0</td>\n",
       "      <td>0</td>\n",
       "    </tr>\n",
       "    <tr>\n",
       "      <th>2</th>\n",
       "      <td>1</td>\n",
       "      <td>0</td>\n",
       "      <td>0</td>\n",
       "      <td>0</td>\n",
       "      <td>0</td>\n",
       "      <td>0</td>\n",
       "      <td>0</td>\n",
       "      <td>0</td>\n",
       "      <td>0</td>\n",
       "      <td>0</td>\n",
       "      <td>...</td>\n",
       "      <td>0</td>\n",
       "      <td>0</td>\n",
       "      <td>0</td>\n",
       "      <td>0</td>\n",
       "      <td>0</td>\n",
       "      <td>0</td>\n",
       "      <td>0</td>\n",
       "      <td>0</td>\n",
       "      <td>0</td>\n",
       "      <td>0</td>\n",
       "    </tr>\n",
       "    <tr>\n",
       "      <th>3</th>\n",
       "      <td>4</td>\n",
       "      <td>0</td>\n",
       "      <td>0</td>\n",
       "      <td>0</td>\n",
       "      <td>0</td>\n",
       "      <td>0</td>\n",
       "      <td>0</td>\n",
       "      <td>0</td>\n",
       "      <td>0</td>\n",
       "      <td>0</td>\n",
       "      <td>...</td>\n",
       "      <td>0</td>\n",
       "      <td>0</td>\n",
       "      <td>0</td>\n",
       "      <td>0</td>\n",
       "      <td>0</td>\n",
       "      <td>0</td>\n",
       "      <td>0</td>\n",
       "      <td>0</td>\n",
       "      <td>0</td>\n",
       "      <td>0</td>\n",
       "    </tr>\n",
       "    <tr>\n",
       "      <th>4</th>\n",
       "      <td>0</td>\n",
       "      <td>0</td>\n",
       "      <td>0</td>\n",
       "      <td>0</td>\n",
       "      <td>0</td>\n",
       "      <td>0</td>\n",
       "      <td>0</td>\n",
       "      <td>0</td>\n",
       "      <td>0</td>\n",
       "      <td>0</td>\n",
       "      <td>...</td>\n",
       "      <td>0</td>\n",
       "      <td>0</td>\n",
       "      <td>0</td>\n",
       "      <td>0</td>\n",
       "      <td>0</td>\n",
       "      <td>0</td>\n",
       "      <td>0</td>\n",
       "      <td>0</td>\n",
       "      <td>0</td>\n",
       "      <td>0</td>\n",
       "    </tr>\n",
       "  </tbody>\n",
       "</table>\n",
       "<p>5 rows × 785 columns</p>\n",
       "</div>"
      ],
      "text/plain": [
       "   label  pixel0  pixel1  pixel2  pixel3  pixel4  pixel5  pixel6  pixel7  \\\n",
       "0      1       0       0       0       0       0       0       0       0   \n",
       "1      0       0       0       0       0       0       0       0       0   \n",
       "2      1       0       0       0       0       0       0       0       0   \n",
       "3      4       0       0       0       0       0       0       0       0   \n",
       "4      0       0       0       0       0       0       0       0       0   \n",
       "\n",
       "   pixel8  ...  pixel774  pixel775  pixel776  pixel777  pixel778  pixel779  \\\n",
       "0       0  ...         0         0         0         0         0         0   \n",
       "1       0  ...         0         0         0         0         0         0   \n",
       "2       0  ...         0         0         0         0         0         0   \n",
       "3       0  ...         0         0         0         0         0         0   \n",
       "4       0  ...         0         0         0         0         0         0   \n",
       "\n",
       "   pixel780  pixel781  pixel782  pixel783  \n",
       "0         0         0         0         0  \n",
       "1         0         0         0         0  \n",
       "2         0         0         0         0  \n",
       "3         0         0         0         0  \n",
       "4         0         0         0         0  \n",
       "\n",
       "[5 rows x 785 columns]"
      ]
     },
     "execution_count": 5,
     "metadata": {},
     "output_type": "execute_result"
    }
   ],
   "source": [
    "# Load the data\n",
    "\n",
    "data = pd.read_csv(\"../mnist.csv\")\n",
    "\n",
    "# first column is the target, the rest of the columns\n",
    "# are the pixels of the image\n",
    "\n",
    "# each row is 1 image\n",
    "data.head()"
   ]
  },
  {
   "cell_type": "code",
   "execution_count": 6,
   "metadata": {},
   "outputs": [
    {
     "data": {
      "text/plain": [
       "((37800, 784), (4200, 784))"
      ]
     },
     "execution_count": 6,
     "metadata": {},
     "output_type": "execute_result"
    }
   ],
   "source": [
    "# split dataset into a train and test set\n",
    "\n",
    "X_train, X_test, y_train, y_test = train_test_split(\n",
    "    data.drop(['label'], axis=1), # the images\n",
    "    data['label'], # the target\n",
    "    test_size = 0.1,\n",
    "    random_state=0)\n",
    "\n",
    "X_train.shape, X_test.shape"
   ]
  },
  {
   "cell_type": "code",
   "execution_count": 7,
   "metadata": {
    "_cell_guid": "86570a36-5c20-460a-9dfd-2070548532a7",
    "_execution_state": "idle",
    "_uuid": "1213b979d5ed3e0d13824d17d694c79d2ece92fa"
   },
   "outputs": [
    {
     "data": {
      "text/plain": [
       "Text(0, 0.5, 'Number of images')"
      ]
     },
     "execution_count": 7,
     "metadata": {},
     "output_type": "execute_result"
    },
    {
     "data": {
      "image/png": "[encoded data removed]",
      "text/plain": [
       "<Figure size 640x480 with 1 Axes>"
      ]
     },
     "metadata": {},
     "output_type": "display_data"
    }
   ],
   "source": [
    "# number of images for each digit\n",
    "\n",
    "g = sns.countplot(x=y_train)\n",
    "plt.xlabel('Digits')\n",
    "plt.ylabel('Number of images')"
   ]
  },
  {
   "cell_type": "markdown",
   "metadata": {
    "_cell_guid": "5aea4062-1790-4987-b739-c4bebd79030f",
    "_uuid": "b7b1b1d36243c885e57374c8b60c5a7e10abe922"
   },
   "source": [
    "There are roughly the same amount of images for each of the 10 digits."
   ]
  },
  {
   "cell_type": "markdown",
   "metadata": {
    "_cell_guid": "6812040d-80ad-43d2-a571-275f4f20067b",
    "_uuid": "2954681f25f0dcbe986e6914396cdbce61db591f"
   },
   "source": [
    "## Image re-scaling\n",
    "\n",
    "We re-scale data for the CNN, between 0 and 1."
   ]
  },
  {
   "cell_type": "code",
   "execution_count": 8,
   "metadata": {
    "_cell_guid": "cdc4340b-6e24-4e12-be99-ac806098ff17",
    "_execution_state": "idle",
    "_uuid": "b5d4f8fcf2a967e2c7d57daedf95aa8c5ab7f8cb"
   },
   "outputs": [],
   "source": [
    "# Re-scale the data\n",
    "\n",
    "# 255 is the maximum value a pixel can take\n",
    "\n",
    "X_train = X_train / 255\n",
    "X_test = X_test / 255"
   ]
  },
  {
   "cell_type": "markdown",
   "metadata": {
    "_cell_guid": "7413df94-bcb9-4f75-b174-c127d4445766",
    "_uuid": "a66741bf1ac597094f3a3166877008feef27c519"
   },
   "source": [
    "## Reshape\n",
    "\n",
    "The images were stored in a pandas dataframe as 1-D vectors of 784 values. For a CNN with Keras, we need tensors with the following dimensions: width x height x channel. \n",
    "\n",
    "Thus, we reshape all data to 28 x 2 8 x 1, 3-D matrices. \n",
    "\n",
    "The 3rd dimension corresponds to the channel. RGB images have 3 channels. MNIST images are in gray-scale, thus they have only one channel in the 3rd dimension."
   ]
  },
  {
   "cell_type": "code",
   "execution_count": 9,
   "metadata": {
    "_cell_guid": "34b6a5f7-8fd2-4387-8ef4-c9dc19584fed",
    "_execution_state": "idle",
    "_uuid": "f0a6ad80dab8e0f2c2e46165ccd9cd82dd162bc3"
   },
   "outputs": [],
   "source": [
    "# Reshape image in 3 dimensions:\n",
    "# height: 28px X width: 28px X channel: 1 \n",
    "\n",
    "X_train = X_train.values.reshape(-1,28,28,1)\n",
    "X_test = X_test.values.reshape(-1,28,28,1)"
   ]
  },
  {
   "cell_type": "markdown",
   "metadata": {
    "_cell_guid": "bdb422e2-bdec-444f-97a5-283a1e54bf2c",
    "_uuid": "39b7a31e843bac6b705461bcce89da216b91799e"
   },
   "source": [
    "## Target encoding"
   ]
  },
  {
   "cell_type": "code",
   "execution_count": 10,
   "metadata": {},
   "outputs": [
    {
     "data": {
      "text/plain": [
       "array([2, 0, 7, 4, 3, 5, 9, 6, 8, 1], dtype=int64)"
      ]
     },
     "execution_count": 10,
     "metadata": {},
     "output_type": "execute_result"
    }
   ],
   "source": [
    "# the target is 1 variable with the 9 different digits\n",
    "# as values\n",
    "\n",
    "y_train.unique()"
   ]
  },
  {
   "cell_type": "code",
   "execution_count": 11,
   "metadata": {
    "_cell_guid": "4b7f3e78-44dc-4561-b1f0-9429ee024cf4",
    "_execution_state": "idle",
    "_uuid": "cabefd1478d5c1bdfe57fd6a34395340916a854c"
   },
   "outputs": [
    {
     "data": {
      "text/plain": [
       "array([[0., 0., 1., ..., 0., 0., 0.],\n",
       "       [0., 0., 1., ..., 0., 0., 0.],\n",
       "       [1., 0., 0., ..., 0., 0., 0.],\n",
       "       ...,\n",
       "       [0., 0., 0., ..., 0., 0., 1.],\n",
       "       [1., 0., 0., ..., 0., 0., 0.],\n",
       "       [0., 0., 0., ..., 0., 0., 1.]], dtype=float32)"
      ]
     },
     "execution_count": 11,
     "metadata": {},
     "output_type": "execute_result"
    }
   ],
   "source": [
    "# For Keras, we need to create 10 dummy variables,\n",
    "# one for each digit\n",
    "\n",
    "# Encode labels to one hot vectors (ex : digit 2 -> [0,0,1,0,0,0,0,0,0,0])\n",
    "\n",
    "y_train = to_categorical(y_train, num_classes = 10)\n",
    "y_test = to_categorical(y_test, num_classes = 10)\n",
    "\n",
    "# the new target\n",
    "y_train"
   ]
  },
  {
   "cell_type": "markdown",
   "metadata": {
    "_cell_guid": "adbeacf0-0dc0-4675-b2df-9c9663750f32",
    "_uuid": "60eed15ec5bc0d354385301789ecb8538fc02267"
   },
   "source": [
    "Let's print some example images."
   ]
  },
  {
   "cell_type": "code",
   "execution_count": 12,
   "metadata": {
    "_cell_guid": "5f76131b-4ba0-45f1-a98c-bd4e7d561793",
    "_execution_state": "idle",
    "_uuid": "e0dae8943d3d35f075dba3d7ba31bde1d4bf2ff4"
   },
   "outputs": [
    {
     "data": {
      "image/png": "[encoded data removed]",
      "text/plain": [
       "<Figure size 640x480 with 1 Axes>"
      ]
     },
     "metadata": {},
     "output_type": "display_data"
    }
   ],
   "source": [
    "# Some image examples \n",
    "\n",
    "g = plt.imshow(X_train[0][:,:,0])"
   ]
  },
  {
   "cell_type": "code",
   "execution_count": 13,
   "metadata": {},
   "outputs": [
    {
     "data": {
      "image/png": "[encoded data removed]",
      "text/plain": [
       "<Figure size 640x480 with 1 Axes>"
      ]
     },
     "metadata": {},
     "output_type": "display_data"
    }
   ],
   "source": [
    "# Some image examples \n",
    "\n",
    "g = plt.imshow(X_train[10][:,:,0])"
   ]
  },
  {
   "cell_type": "markdown",
   "metadata": {
    "_cell_guid": "d5265777-aeb3-449d-b171-d88cad74c0a4",
    "_uuid": "5fa18b37a9acd9e098bac1d12264b0dd4310fdd3"
   },
   "source": [
    "# Define-by-Run design\n",
    "\n",
    "We create the CNN and add the sampling space for the hyperparameters as we go. This is the Desing-by-run concept."
   ]
  },
  {
   "cell_type": "code",
   "execution_count": 14,
   "metadata": {},
   "outputs": [],
   "source": [
    "# we will save the model with this name\n",
    "path_best_model = 'cnn_model.h5'\n",
    "\n",
    "# starting point for the optimization\n",
    "best_accuracy = 0"
   ]
  },
  {
   "cell_type": "code",
   "execution_count": 15,
   "metadata": {},
   "outputs": [],
   "source": [
    "# function to create the CNN\n",
    "\n",
    "def objective(trial):\n",
    "\n",
    "    # Start construction of a Keras Sequential model.\n",
    "    model = Sequential()\n",
    "\n",
    "    # Convolutional layers.\n",
    "\n",
    "    # We add the different number of conv layers in the following loop:\n",
    "    num_conv_layers = trial.suggest_int('num_conv_layers', 1, 3)\n",
    "\n",
    "    for i in range(num_conv_layers):\n",
    "        \n",
    "        # NOTE: As per the below configuration, the parameters of each\n",
    "        # convolutional layer will be identical.\n",
    "        \n",
    "        # if we want different parameters in each layer, check next\n",
    "        # notebook\n",
    "\n",
    "        model.add(Conv2D(\n",
    "            filters=trial.suggest_categorical('filters', [16, 32, 64]),\n",
    "            kernel_size=trial.suggest_categorical('kernel_size', [3, 5]),\n",
    "            strides=trial.suggest_categorical('strides', [1, 2]),\n",
    "            activation=trial.suggest_categorical(\n",
    "                'activation', ['relu', 'tanh']),\n",
    "            padding='same',\n",
    "        ))\n",
    "\n",
    "    # we could also optimize these parameters if we wanted:\n",
    "    model.add(MaxPool2D(pool_size=2, strides=2))\n",
    "\n",
    "    # Flatten the 4-rank output of the convolutional layers\n",
    "    # to 2-rank that can be input to a fully-connected Dense layer.\n",
    "    model.add(Flatten())\n",
    "\n",
    "    # Add fully-connected Dense layers.\n",
    "    # The number of layers is a hyper-parameter we want to optimize.\n",
    "    # We add the different number of layers in the following loop:\n",
    "\n",
    "    num_dense_layers = trial.suggest_int('num_dense_layers', 1, 3)\n",
    "\n",
    "    for i in range(num_dense_layers):\n",
    "\n",
    "        # Add the dense fully-connected layer to the model.\n",
    "        # This has two hyper-parameters we want to optimize:\n",
    "        # The number of nodes (neurons) and the activation function.\n",
    "        model.add(Dense(\n",
    "            units=trial.suggest_int('units', 5, 512),\n",
    "            activation=trial.suggest_categorical(\n",
    "                'activation', ['relu', 'tanh']),\n",
    "        ))\n",
    "\n",
    "    # Last fully-connected dense layer with softmax-activation\n",
    "    # for use in classification.\n",
    "    model.add(Dense(10, activation='softmax'))\n",
    "\n",
    "    # Use the Adam method for training the network.\n",
    "    optimizer_name = trial.suggest_categorical(\n",
    "        'optimizer_name', ['Adam', 'RMSprop'])\n",
    "\n",
    "    if optimizer_name == 'Adam':\n",
    "        optimizer = Adam(lr=trial.suggest_float('learning_rate',  1e-6, 1e-2))\n",
    "    else:\n",
    "        optimizer = RMSprop(\n",
    "            lr=trial.suggest_float('learning_rate',  1e-6, 1e-2),\n",
    "            momentum=trial.suggest_float('momentum',  0.1, 0.9),\n",
    "        )\n",
    "\n",
    "    # In Keras we need to compile the model so it can be trained.\n",
    "    model.compile(optimizer=optimizer,\n",
    "                  loss='categorical_crossentropy',\n",
    "                  metrics=['accuracy'])\n",
    "\n",
    "    # train the model\n",
    "    # we use 3 epochs to be able to run the notebook in a \"reasonable\"\n",
    "    # time. If we increase the epochs, we will have better performance\n",
    "    # this could be another parameter to optimize in fact.\n",
    "    history = model.fit(\n",
    "        x=X_train,\n",
    "        y=y_train,\n",
    "        epochs=3,\n",
    "        batch_size=128,\n",
    "        validation_split=0.1,\n",
    "    )\n",
    "\n",
    "    # Get the classification accuracy on the validation-set\n",
    "    # after the last training-epoch.\n",
    "    accuracy = history.history['val_accuracy'][-1]\n",
    "\n",
    "    # Save the model if it improves on the best-found performance.\n",
    "    # We use the global keyword so we update the variable outside\n",
    "    # of this function.\n",
    "    global best_accuracy\n",
    "\n",
    "    # If the classification accuracy of the saved model is improved ...\n",
    "    if accuracy > best_accuracy:\n",
    "        # Save the new model to harddisk.\n",
    "        # Training CNNs is costly, so we want to avoid having to re-train\n",
    "        # the network with the best found parameters. We save it instead\n",
    "        # as we search for the best hyperparam space.\n",
    "        model.save(path_best_model)\n",
    "\n",
    "        # Update the classification accuracy.\n",
    "        best_accuracy = accuracy\n",
    "\n",
    "    # Delete the Keras model with these hyper-parameters from memory.\n",
    "    del model\n",
    "\n",
    "    # Remember that Scikit-optimize always minimizes the objective\n",
    "    # function, so we need to negate the accuracy (because we want\n",
    "    # the maximum accuracy)\n",
    "    return accuracy"
   ]
  },
  {
   "cell_type": "code",
   "execution_count": 16,
   "metadata": {},
   "outputs": [],
   "source": [
    "# we need this to store the search\n",
    "# we will use it in the following notebook\n",
    "\n",
    "study_name = \"cnn_study\"  # unique identifier of the study.\n",
    "storage_name = \"sqlite:///{}.db\".format(study_name)"
   ]
  },
  {
   "cell_type": "code",
   "execution_count": null,
   "metadata": {
    "scrolled": true
   },
   "outputs": [
    {
     "name": "stderr",
     "output_type": "stream",
     "text": [
      "[I 2023-09-19 15:24:53,885] A new study created in memory with name: cnn_study\n",
      "C:\\Users\\mainn.ho\\AppData\\Local\\Programs\\Python\\Python311\\Lib\\site-packages\\keras\\optimizers\\legacy\\adam.py:117: UserWarning: The `lr` argument is deprecated, use `learning_rate` instead.\n",
      "  super().__init__(name, **kwargs)\n"
     ]
    },
    {
     "name": "stdout",
     "output_type": "stream",
     "text": [
      "Epoch 1/3\n",
      "266/266 [==============================] - 11s 37ms/step - loss: 0.2621 - accuracy: 0.9139 - val_loss: 0.1259 - val_accuracy: 0.9661\n",
      "Epoch 2/3\n",
      "266/266 [==============================] - 9s 35ms/step - loss: 0.0817 - accuracy: 0.9754 - val_loss: 0.1099 - val_accuracy: 0.9709\n",
      "Epoch 3/3\n",
      "266/266 [==============================] - 10s 36ms/step - loss: 0.0631 - accuracy: 0.9823 - val_loss: 0.1005 - val_accuracy: 0.9733\n"
     ]
    },
    {
     "name": "stderr",
     "output_type": "stream",
     "text": [
      "[I 2023-09-19 15:25:24,537] Trial 0 finished with value: 0.9732804298400879 and parameters: {'num_conv_layers': 3, 'filters': 32, 'kernel_size': 5, 'strides': 2, 'activation': 'relu', 'num_dense_layers': 2, 'units': 245, 'optimizer_name': 'Adam', 'learning_rate': 0.006057748440064741}. Best is trial 0 with value: 0.9732804298400879.\n",
      "C:\\Users\\mainn.ho\\AppData\\Local\\Programs\\Python\\Python311\\Lib\\site-packages\\keras\\optimizers\\legacy\\rmsprop.py:143: UserWarning: The `lr` argument is deprecated, use `learning_rate` instead.\n",
      "  super().__init__(name, **kwargs)\n"
     ]
    },
    {
     "name": "stdout",
     "output_type": "stream",
     "text": [
      "Epoch 1/3\n",
      "266/266 [==============================] - 68s 255ms/step - loss: 0.7188 - accuracy: 0.7479 - val_loss: 0.1463 - val_accuracy: 0.9582\n",
      "Epoch 2/3\n",
      "266/266 [==============================] - 65s 245ms/step - loss: 0.1214 - accuracy: 0.9659 - val_loss: 0.1001 - val_accuracy: 0.9743\n",
      "Epoch 3/3\n",
      "266/266 [==============================] - 68s 255ms/step - loss: 0.0791 - accuracy: 0.9775 - val_loss: 0.0818 - val_accuracy: 0.9788\n"
     ]
    },
    {
     "name": "stderr",
     "output_type": "stream",
     "text": [
      "[I 2023-09-19 15:28:46,297] Trial 1 finished with value: 0.9788359999656677 and parameters: {'num_conv_layers': 2, 'filters': 64, 'kernel_size': 3, 'strides': 1, 'activation': 'relu', 'num_dense_layers': 3, 'units': 380, 'optimizer_name': 'RMSprop', 'learning_rate': 0.005860756116850315, 'momentum': 0.13076730491217037}. Best is trial 1 with value: 0.9788359999656677.\n"
     ]
    },
    {
     "name": "stdout",
     "output_type": "stream",
     "text": [
      "Epoch 1/3\n",
      "266/266 [==============================] - 23s 85ms/step - loss: 4.0933 - accuracy: 0.0975 - val_loss: 3.6485 - val_accuracy: 0.0997\n",
      "Epoch 2/3\n",
      "266/266 [==============================] - 24s 89ms/step - loss: 3.8413 - accuracy: 0.0995 - val_loss: 4.0772 - val_accuracy: 0.0997\n",
      "Epoch 3/3\n",
      "266/266 [==============================] - 24s 91ms/step - loss: 3.8651 - accuracy: 0.0987 - val_loss: 3.0540 - val_accuracy: 0.1037\n"
     ]
    },
    {
     "name": "stderr",
     "output_type": "stream",
     "text": [
      "[I 2023-09-19 15:29:57,296] Trial 2 finished with value: 0.10370370000600815 and parameters: {'num_conv_layers': 1, 'filters': 64, 'kernel_size': 5, 'strides': 1, 'activation': 'tanh', 'num_dense_layers': 3, 'units': 325, 'optimizer_name': 'RMSprop', 'learning_rate': 0.009302280739168098, 'momentum': 0.5097028407922235}. Best is trial 1 with value: 0.9788359999656677.\n"
     ]
    },
    {
     "name": "stdout",
     "output_type": "stream",
     "text": [
      "Epoch 1/3\n",
      "266/266 [==============================] - 5s 17ms/step - loss: 0.2607 - accuracy: 0.9167 - val_loss: 0.1119 - val_accuracy: 0.9672\n",
      "Epoch 2/3\n",
      "266/266 [==============================] - 4s 16ms/step - loss: 0.0942 - accuracy: 0.9717 - val_loss: 0.0922 - val_accuracy: 0.9738\n",
      "Epoch 3/3\n",
      "266/266 [==============================] - 4s 16ms/step - loss: 0.0682 - accuracy: 0.9789 - val_loss: 0.0895 - val_accuracy: 0.9730\n"
     ]
    },
    {
     "name": "stderr",
     "output_type": "stream",
     "text": [
      "[I 2023-09-19 15:30:11,114] Trial 3 finished with value: 0.9730158448219299 and parameters: {'num_conv_layers': 3, 'filters': 32, 'kernel_size': 3, 'strides': 2, 'activation': 'relu', 'num_dense_layers': 1, 'units': 75, 'optimizer_name': 'Adam', 'learning_rate': 0.009231709036622657}. Best is trial 1 with value: 0.9788359999656677.\n"
     ]
    },
    {
     "name": "stdout",
     "output_type": "stream",
     "text": [
      "Epoch 1/3\n",
      "266/266 [==============================] - 8s 28ms/step - loss: 0.2399 - accuracy: 0.9260 - val_loss: 0.1600 - val_accuracy: 0.9542\n",
      "Epoch 2/3\n",
      "266/266 [==============================] - 8s 29ms/step - loss: 0.0825 - accuracy: 0.9747 - val_loss: 0.0938 - val_accuracy: 0.9749\n",
      "Epoch 3/3\n",
      "266/266 [==============================] - 9s 34ms/step - loss: 0.0451 - accuracy: 0.9859 - val_loss: 0.0824 - val_accuracy: 0.9754\n"
     ]
    },
    {
     "name": "stderr",
     "output_type": "stream",
     "text": [
      "[I 2023-09-19 15:30:36,000] Trial 4 finished with value: 0.9753968119621277 and parameters: {'num_conv_layers': 1, 'filters': 16, 'kernel_size': 5, 'strides': 1, 'activation': 'tanh', 'num_dense_layers': 2, 'units': 212, 'optimizer_name': 'Adam', 'learning_rate': 0.0024229627577129283}. Best is trial 1 with value: 0.9788359999656677.\n"
     ]
    },
    {
     "name": "stdout",
     "output_type": "stream",
     "text": [
      "Epoch 1/3\n",
      "266/266 [==============================] - 16s 59ms/step - loss: 0.2238 - accuracy: 0.9335 - val_loss: 0.1118 - val_accuracy: 0.9667\n",
      "Epoch 2/3\n",
      "266/266 [==============================] - 16s 62ms/step - loss: 0.0683 - accuracy: 0.9795 - val_loss: 0.0748 - val_accuracy: 0.9788\n",
      "Epoch 3/3\n",
      "266/266 [==============================] - 16s 59ms/step - loss: 0.0422 - accuracy: 0.9873 - val_loss: 0.0711 - val_accuracy: 0.9788\n"
     ]
    },
    {
     "name": "stderr",
     "output_type": "stream",
     "text": [
      "[I 2023-09-19 15:31:24,451] Trial 5 finished with value: 0.9788359999656677 and parameters: {'num_conv_layers': 1, 'filters': 32, 'kernel_size': 3, 'strides': 1, 'activation': 'relu', 'num_dense_layers': 1, 'units': 505, 'optimizer_name': 'Adam', 'learning_rate': 0.0009743493262007424}. Best is trial 1 with value: 0.9788359999656677.\n"
     ]
    },
    {
     "name": "stdout",
     "output_type": "stream",
     "text": [
      "Epoch 1/3\n",
      "266/266 [==============================] - 23s 83ms/step - loss: 0.2398 - accuracy: 0.9259 - val_loss: 0.1395 - val_accuracy: 0.9595\n",
      "Epoch 2/3\n",
      "266/266 [==============================] - 20s 76ms/step - loss: 0.0890 - accuracy: 0.9724 - val_loss: 0.1266 - val_accuracy: 0.9630\n",
      "Epoch 3/3\n",
      "266/266 [==============================] - 20s 75ms/step - loss: 0.0636 - accuracy: 0.9801 - val_loss: 0.1151 - val_accuracy: 0.9693\n"
     ]
    },
    {
     "name": "stderr",
     "output_type": "stream",
     "text": [
      "[I 2023-09-19 15:32:27,144] Trial 6 finished with value: 0.9693121910095215 and parameters: {'num_conv_layers': 1, 'filters': 64, 'kernel_size': 3, 'strides': 1, 'activation': 'tanh', 'num_dense_layers': 2, 'units': 196, 'optimizer_name': 'Adam', 'learning_rate': 0.005497761887873039}. Best is trial 1 with value: 0.9788359999656677.\n"
     ]
    },
    {
     "name": "stdout",
     "output_type": "stream",
     "text": [
      "Epoch 1/3\n",
      "266/266 [==============================] - 71s 267ms/step - loss: 3.0480 - accuracy: 0.3306 - val_loss: 4.0328 - val_accuracy: 0.1487\n",
      "Epoch 2/3\n",
      "266/266 [==============================] - 73s 274ms/step - loss: 2.2934 - accuracy: 0.4036 - val_loss: 2.0035 - val_accuracy: 0.3606\n",
      "Epoch 3/3\n",
      "266/266 [==============================] - 73s 273ms/step - loss: 1.2668 - accuracy: 0.6354 - val_loss: 1.0341 - val_accuracy: 0.6354\n"
     ]
    },
    {
     "name": "stderr",
     "output_type": "stream",
     "text": [
      "[I 2023-09-19 15:36:04,161] Trial 7 finished with value: 0.6354497075080872 and parameters: {'num_conv_layers': 2, 'filters': 64, 'kernel_size': 3, 'strides': 1, 'activation': 'tanh', 'num_dense_layers': 1, 'units': 499, 'optimizer_name': 'RMSprop', 'learning_rate': 0.005451760132906189, 'momentum': 0.7719992114213331}. Best is trial 1 with value: 0.9788359999656677.\n"
     ]
    },
    {
     "name": "stdout",
     "output_type": "stream",
     "text": [
      "Epoch 1/3\n",
      "266/266 [==============================] - 16s 57ms/step - loss: 0.2618 - accuracy: 0.9168 - val_loss: 0.0996 - val_accuracy: 0.9722\n",
      "Epoch 2/3\n",
      "266/266 [==============================] - 14s 53ms/step - loss: 0.0690 - accuracy: 0.9794 - val_loss: 0.0907 - val_accuracy: 0.9749\n",
      "Epoch 3/3\n",
      "266/266 [==============================] - 14s 52ms/step - loss: 0.0482 - accuracy: 0.9864 - val_loss: 0.0740 - val_accuracy: 0.9841\n"
     ]
    },
    {
     "name": "stderr",
     "output_type": "stream",
     "text": [
      "[I 2023-09-19 15:36:47,790] Trial 8 finished with value: 0.9841269850730896 and parameters: {'num_conv_layers': 3, 'filters': 64, 'kernel_size': 5, 'strides': 2, 'activation': 'relu', 'num_dense_layers': 2, 'units': 223, 'optimizer_name': 'RMSprop', 'learning_rate': 0.0006410691656069797, 'momentum': 0.773756061018062}. Best is trial 8 with value: 0.9841269850730896.\n"
     ]
    },
    {
     "name": "stdout",
     "output_type": "stream",
     "text": [
      "Epoch 1/3\n",
      "266/266 [==============================] - 4s 15ms/step - loss: 0.2824 - accuracy: 0.9083 - val_loss: 0.1327 - val_accuracy: 0.9614\n",
      "Epoch 2/3\n",
      "266/266 [==============================] - 4s 14ms/step - loss: 0.0961 - accuracy: 0.9702 - val_loss: 0.0799 - val_accuracy: 0.9746\n",
      "Epoch 3/3\n",
      "266/266 [==============================] - 4s 14ms/step - loss: 0.0698 - accuracy: 0.9792 - val_loss: 0.1129 - val_accuracy: 0.9690\n"
     ]
    },
    {
     "name": "stderr",
     "output_type": "stream",
     "text": [
      "[I 2023-09-19 15:36:59,766] Trial 9 finished with value: 0.9690476059913635 and parameters: {'num_conv_layers': 2, 'filters': 32, 'kernel_size': 3, 'strides': 2, 'activation': 'relu', 'num_dense_layers': 3, 'units': 336, 'optimizer_name': 'Adam', 'learning_rate': 0.004621900203437648}. Best is trial 8 with value: 0.9841269850730896.\n"
     ]
    },
    {
     "name": "stdout",
     "output_type": "stream",
     "text": [
      "Epoch 1/3\n",
      "266/266 [==============================] - 5s 17ms/step - loss: 0.6012 - accuracy: 0.7987 - val_loss: 0.2364 - val_accuracy: 0.9286\n",
      "Epoch 2/3\n",
      "266/266 [==============================] - 5s 18ms/step - loss: 0.1560 - accuracy: 0.9534 - val_loss: 0.1241 - val_accuracy: 0.9648\n",
      "Epoch 3/3\n",
      "266/266 [==============================] - 5s 17ms/step - loss: 0.1089 - accuracy: 0.9675 - val_loss: 0.1223 - val_accuracy: 0.9638\n"
     ]
    },
    {
     "name": "stderr",
     "output_type": "stream",
     "text": [
      "[I 2023-09-19 15:37:14,223] Trial 10 finished with value: 0.9637566208839417 and parameters: {'num_conv_layers': 3, 'filters': 16, 'kernel_size': 5, 'strides': 2, 'activation': 'relu', 'num_dense_layers': 2, 'units': 19, 'optimizer_name': 'RMSprop', 'learning_rate': 0.0002890128332968594, 'momentum': 0.8862363644994864}. Best is trial 8 with value: 0.9841269850730896.\n"
     ]
    },
    {
     "name": "stdout",
     "output_type": "stream",
     "text": [
      "Epoch 1/3\n",
      "266/266 [==============================] - 14s 49ms/step - loss: 0.4526 - accuracy: 0.8532 - val_loss: 0.1547 - val_accuracy: 0.9550\n",
      "Epoch 2/3\n",
      "266/266 [==============================] - 15s 58ms/step - loss: 0.0909 - accuracy: 0.9747 - val_loss: 0.0870 - val_accuracy: 0.9749\n",
      "Epoch 3/3\n",
      "266/266 [==============================] - 14s 53ms/step - loss: 0.0623 - accuracy: 0.9822 - val_loss: 0.0958 - val_accuracy: 0.9775\n"
     ]
    },
    {
     "name": "stderr",
     "output_type": "stream",
     "text": [
      "[I 2023-09-19 15:37:57,472] Trial 11 finished with value: 0.9775132536888123 and parameters: {'num_conv_layers': 2, 'filters': 64, 'kernel_size': 5, 'strides': 2, 'activation': 'relu', 'num_dense_layers': 3, 'units': 383, 'optimizer_name': 'RMSprop', 'learning_rate': 0.002935285845275064, 'momentum': 0.11271320059077086}. Best is trial 8 with value: 0.9841269850730896.\n"
     ]
    },
    {
     "name": "stdout",
     "output_type": "stream",
     "text": [
      "Epoch 1/3\n",
      "266/266 [==============================] - 111s 415ms/step - loss: 2.3119 - accuracy: 0.1073 - val_loss: 2.3019 - val_accuracy: 0.0997\n",
      "Epoch 2/3\n",
      "266/266 [==============================] - 97s 363ms/step - loss: 2.3020 - accuracy: 0.1097 - val_loss: 2.3012 - val_accuracy: 0.1146\n",
      "Epoch 3/3\n",
      "266/266 [==============================] - 101s 380ms/step - loss: 2.3019 - accuracy: 0.1106 - val_loss: 2.3024 - val_accuracy: 0.1146\n"
     ]
    },
    {
     "name": "stderr",
     "output_type": "stream",
     "text": [
      "[I 2023-09-19 15:43:06,419] Trial 12 finished with value: 0.11455026268959045 and parameters: {'num_conv_layers': 3, 'filters': 64, 'kernel_size': 3, 'strides': 1, 'activation': 'relu', 'num_dense_layers': 3, 'units': 416, 'optimizer_name': 'RMSprop', 'learning_rate': 0.007334740235212123, 'momentum': 0.2252329051889128}. Best is trial 8 with value: 0.9841269850730896.\n"
     ]
    },
    {
     "name": "stdout",
     "output_type": "stream",
     "text": [
      "Epoch 1/3\n",
      "266/266 [==============================] - 12s 43ms/step - loss: 0.2932 - accuracy: 0.9029 - val_loss: 0.0950 - val_accuracy: 0.9712\n",
      "Epoch 2/3\n",
      "266/266 [==============================] - 12s 44ms/step - loss: 0.0854 - accuracy: 0.9735 - val_loss: 0.0797 - val_accuracy: 0.9786\n",
      "Epoch 3/3\n",
      "266/266 [==============================] - 12s 44ms/step - loss: 0.0658 - accuracy: 0.9801 - val_loss: 0.0985 - val_accuracy: 0.9704\n"
     ]
    },
    {
     "name": "stderr",
     "output_type": "stream",
     "text": [
      "[I 2023-09-19 15:43:41,912] Trial 13 finished with value: 0.970370352268219 and parameters: {'num_conv_layers': 2, 'filters': 64, 'kernel_size': 5, 'strides': 2, 'activation': 'relu', 'num_dense_layers': 2, 'units': 182, 'optimizer_name': 'RMSprop', 'learning_rate': 0.003561361085368137, 'momentum': 0.4052908668434914}. Best is trial 8 with value: 0.9841269850730896.\n"
     ]
    },
    {
     "name": "stdout",
     "output_type": "stream",
     "text": [
      "Epoch 1/3\n",
      "266/266 [==============================] - 124s 465ms/step - loss: 0.2078 - accuracy: 0.9330 - val_loss: 0.0876 - val_accuracy: 0.9743\n",
      "Epoch 2/3\n",
      "266/266 [==============================] - 134s 504ms/step - loss: 0.0685 - accuracy: 0.9811 - val_loss: 0.0786 - val_accuracy: 0.9796\n",
      "Epoch 3/3\n",
      "266/266 [==============================] - 222s 836ms/step - loss: 0.0475 - accuracy: 0.9882 - val_loss: 0.0747 - val_accuracy: 0.9815\n"
     ]
    },
    {
     "name": "stderr",
     "output_type": "stream",
     "text": [
      "[I 2023-09-19 15:51:42,321] Trial 14 finished with value: 0.9814814925193787 and parameters: {'num_conv_layers': 2, 'filters': 64, 'kernel_size': 5, 'strides': 1, 'activation': 'relu', 'num_dense_layers': 3, 'units': 135, 'optimizer_name': 'RMSprop', 'learning_rate': 0.0016302015083853793, 'momentum': 0.6472516134916936}. Best is trial 8 with value: 0.9841269850730896.\n"
     ]
    },
    {
     "name": "stdout",
     "output_type": "stream",
     "text": [
      "Epoch 1/3\n",
      "266/266 [==============================] - 33s 113ms/step - loss: 0.2611 - accuracy: 0.9171 - val_loss: 0.0973 - val_accuracy: 0.9728\n",
      "Epoch 2/3\n",
      "266/266 [==============================] - 31s 115ms/step - loss: 0.0739 - accuracy: 0.9788 - val_loss: 0.0845 - val_accuracy: 0.9770\n",
      "Epoch 3/3\n",
      "266/266 [==============================] - 31s 118ms/step - loss: 0.0538 - accuracy: 0.9845 - val_loss: 0.1233 - val_accuracy: 0.9722\n"
     ]
    },
    {
     "name": "stderr",
     "output_type": "stream",
     "text": [
      "[I 2023-09-19 15:53:19,361] Trial 15 finished with value: 0.9722222089767456 and parameters: {'num_conv_layers': 3, 'filters': 64, 'kernel_size': 5, 'strides': 2, 'activation': 'relu', 'num_dense_layers': 2, 'units': 111, 'optimizer_name': 'RMSprop', 'learning_rate': 0.0014362011878741592, 'momentum': 0.6840748886388437}. Best is trial 8 with value: 0.9841269850730896.\n"
     ]
    },
    {
     "name": "stdout",
     "output_type": "stream",
     "text": [
      "Epoch 1/3\n",
      "266/266 [==============================] - 55s 201ms/step - loss: 0.7526 - accuracy: 0.7969 - val_loss: 0.3098 - val_accuracy: 0.9034\n",
      "Epoch 2/3\n",
      "266/266 [==============================] - 54s 202ms/step - loss: 0.2330 - accuracy: 0.9291 - val_loss: 0.2064 - val_accuracy: 0.9405\n",
      "Epoch 3/3\n",
      "266/266 [==============================] - 61s 230ms/step - loss: 0.1562 - accuracy: 0.9526 - val_loss: 0.1584 - val_accuracy: 0.9556\n"
     ]
    },
    {
     "name": "stderr",
     "output_type": "stream",
     "text": [
      "[I 2023-09-19 15:56:10,551] Trial 16 finished with value: 0.9555555582046509 and parameters: {'num_conv_layers': 2, 'filters': 16, 'kernel_size': 5, 'strides': 1, 'activation': 'relu', 'num_dense_layers': 3, 'units': 136, 'optimizer_name': 'RMSprop', 'learning_rate': 4.4611140877958344e-05, 'momentum': 0.6534856698386541}. Best is trial 8 with value: 0.9841269850730896.\n"
     ]
    },
    {
     "name": "stdout",
     "output_type": "stream",
     "text": [
      "Epoch 1/3\n",
      "266/266 [==============================] - 36s 126ms/step - loss: 0.3721 - accuracy: 0.8823 - val_loss: 0.1680 - val_accuracy: 0.9585\n",
      "Epoch 2/3\n",
      "266/266 [==============================] - 29s 108ms/step - loss: 0.1109 - accuracy: 0.9700 - val_loss: 0.1257 - val_accuracy: 0.9706\n",
      "Epoch 3/3\n",
      "266/266 [==============================] - 32s 121ms/step - loss: 0.0913 - accuracy: 0.9766 - val_loss: 0.1294 - val_accuracy: 0.9720\n"
     ]
    },
    {
     "name": "stderr",
     "output_type": "stream",
     "text": [
      "[I 2023-09-19 15:57:57,218] Trial 17 finished with value: 0.9719576835632324 and parameters: {'num_conv_layers': 3, 'filters': 64, 'kernel_size': 5, 'strides': 2, 'activation': 'relu', 'num_dense_layers': 1, 'units': 9, 'optimizer_name': 'RMSprop', 'learning_rate': 0.0015419580077247687, 'momentum': 0.890579317979917}. Best is trial 8 with value: 0.9841269850730896.\n"
     ]
    },
    {
     "name": "stdout",
     "output_type": "stream",
     "text": [
      "Epoch 1/3\n",
      "266/266 [==============================] - 295s 1s/step - loss: 2.4999 - accuracy: 0.0999 - val_loss: 2.3607 - val_accuracy: 0.1079\n",
      "Epoch 2/3\n",
      "266/266 [==============================] - 284s 1s/step - loss: 2.3959 - accuracy: 0.1019 - val_loss: 2.4042 - val_accuracy: 0.1037\n",
      "Epoch 3/3\n",
      "266/266 [==============================] - 282s 1s/step - loss: 2.3909 - accuracy: 0.1023 - val_loss: 2.4125 - val_accuracy: 0.0868\n"
     ]
    },
    {
     "name": "stderr",
     "output_type": "stream",
     "text": [
      "[I 2023-09-19 16:12:18,722] Trial 18 finished with value: 0.08677248656749725 and parameters: {'num_conv_layers': 2, 'filters': 64, 'kernel_size': 5, 'strides': 1, 'activation': 'tanh', 'num_dense_layers': 2, 'units': 297, 'optimizer_name': 'RMSprop', 'learning_rate': 0.0021046904841015013, 'momentum': 0.5998167387597523}. Best is trial 8 with value: 0.9841269850730896.\n"
     ]
    },
    {
     "name": "stdout",
     "output_type": "stream",
     "text": [
      "Epoch 1/3\n",
      "266/266 [==============================] - 11s 35ms/step - loss: 0.2735 - accuracy: 0.9129 - val_loss: 0.1402 - val_accuracy: 0.9598\n",
      "Epoch 2/3\n",
      "266/266 [==============================] - 8s 31ms/step - loss: 0.1276 - accuracy: 0.9643 - val_loss: 0.1849 - val_accuracy: 0.9532\n",
      "Epoch 3/3\n",
      "266/266 [==============================] - 8s 30ms/step - loss: 0.1200 - accuracy: 0.9674 - val_loss: 0.1531 - val_accuracy: 0.9627\n"
     ]
    },
    {
     "name": "stderr",
     "output_type": "stream",
     "text": [
      "[I 2023-09-19 16:12:47,820] Trial 19 finished with value: 0.9626984000205994 and parameters: {'num_conv_layers': 2, 'filters': 16, 'kernel_size': 5, 'strides': 2, 'activation': 'relu', 'num_dense_layers': 2, 'units': 146, 'optimizer_name': 'RMSprop', 'learning_rate': 0.003466108913835271, 'momentum': 0.7659780672515792}. Best is trial 8 with value: 0.9841269850730896.\n"
     ]
    },
    {
     "name": "stdout",
     "output_type": "stream",
     "text": [
      "Epoch 1/3\n",
      "266/266 [==============================] - 30s 107ms/step - loss: 0.3366 - accuracy: 0.8909 - val_loss: 0.1170 - val_accuracy: 0.9651\n",
      "Epoch 2/3\n",
      "266/266 [==============================] - 26s 99ms/step - loss: 0.0771 - accuracy: 0.9771 - val_loss: 0.0891 - val_accuracy: 0.9751\n",
      "Epoch 3/3\n",
      "266/266 [==============================] - 26s 98ms/step - loss: 0.0511 - accuracy: 0.9844 - val_loss: 0.0801 - val_accuracy: 0.9817\n"
     ]
    },
    {
     "name": "stderr",
     "output_type": "stream",
     "text": [
      "[I 2023-09-19 16:14:11,071] Trial 20 finished with value: 0.9817460179328918 and parameters: {'num_conv_layers': 3, 'filters': 64, 'kernel_size': 5, 'strides': 2, 'activation': 'relu', 'num_dense_layers': 3, 'units': 78, 'optimizer_name': 'RMSprop', 'learning_rate': 0.0009865965585339517, 'momentum': 0.5055813954210004}. Best is trial 8 with value: 0.9841269850730896.\n"
     ]
    },
    {
     "name": "stdout",
     "output_type": "stream",
     "text": [
      "Epoch 1/3\n",
      "266/266 [==============================] - 29s 100ms/step - loss: 0.3358 - accuracy: 0.8905 - val_loss: 0.1102 - val_accuracy: 0.9661\n",
      "Epoch 2/3\n",
      "266/266 [==============================] - 28s 105ms/step - loss: 0.0820 - accuracy: 0.9758 - val_loss: 0.0801 - val_accuracy: 0.9772\n",
      "Epoch 3/3\n",
      "266/266 [==============================] - 27s 103ms/step - loss: 0.0536 - accuracy: 0.9842 - val_loss: 0.1012 - val_accuracy: 0.9741\n"
     ]
    },
    {
     "name": "stderr",
     "output_type": "stream",
     "text": [
      "[I 2023-09-19 16:15:36,067] Trial 21 finished with value: 0.9740740656852722 and parameters: {'num_conv_layers': 3, 'filters': 64, 'kernel_size': 5, 'strides': 2, 'activation': 'relu', 'num_dense_layers': 3, 'units': 73, 'optimizer_name': 'RMSprop', 'learning_rate': 0.0008572371224219785, 'momentum': 0.5368380209747229}. Best is trial 8 with value: 0.9841269850730896.\n"
     ]
    },
    {
     "name": "stdout",
     "output_type": "stream",
     "text": [
      "Epoch 1/3\n",
      "266/266 [==============================] - 31s 109ms/step - loss: 1.8709 - accuracy: 0.4663 - val_loss: 1.0199 - val_accuracy: 0.7228\n",
      "Epoch 2/3\n",
      "266/266 [==============================] - 30s 112ms/step - loss: 0.5889 - accuracy: 0.8396 - val_loss: 0.4290 - val_accuracy: 0.8704\n",
      "Epoch 3/3\n",
      "266/266 [==============================] - 28s 104ms/step - loss: 0.3588 - accuracy: 0.8934 - val_loss: 0.3385 - val_accuracy: 0.8987\n"
     ]
    },
    {
     "name": "stderr",
     "output_type": "stream",
     "text": [
      "[I 2023-09-19 16:17:05,281] Trial 22 finished with value: 0.8986772298812866 and parameters: {'num_conv_layers': 3, 'filters': 64, 'kernel_size': 5, 'strides': 2, 'activation': 'relu', 'num_dense_layers': 3, 'units': 77, 'optimizer_name': 'RMSprop', 'learning_rate': 2.6143635777470665e-05, 'momentum': 0.438892487200442}. Best is trial 8 with value: 0.9841269850730896.\n"
     ]
    },
    {
     "name": "stdout",
     "output_type": "stream",
     "text": [
      "Epoch 1/3\n",
      "266/266 [==============================] - 34s 114ms/step - loss: 0.4028 - accuracy: 0.8687 - val_loss: 0.1011 - val_accuracy: 0.9735\n",
      "Epoch 2/3\n",
      "266/266 [==============================] - 28s 107ms/step - loss: 0.0952 - accuracy: 0.9746 - val_loss: 0.1017 - val_accuracy: 0.9735\n",
      "Epoch 3/3\n",
      "266/266 [==============================] - 33s 123ms/step - loss: 0.0662 - accuracy: 0.9823 - val_loss: 0.1316 - val_accuracy: 0.9730\n"
     ]
    },
    {
     "name": "stderr",
     "output_type": "stream",
     "text": [
      "[I 2023-09-19 16:18:41,036] Trial 23 finished with value: 0.9730158448219299 and parameters: {'num_conv_layers': 3, 'filters': 64, 'kernel_size': 5, 'strides': 2, 'activation': 'relu', 'num_dense_layers': 3, 'units': 251, 'optimizer_name': 'RMSprop', 'learning_rate': 0.0017955971670441649, 'momentum': 0.6109056685658898}. Best is trial 8 with value: 0.9841269850730896.\n"
     ]
    },
    {
     "name": "stdout",
     "output_type": "stream",
     "text": [
      "Epoch 1/3\n",
      "266/266 [==============================] - 29s 101ms/step - loss: 0.2263 - accuracy: 0.9257 - val_loss: 0.0772 - val_accuracy: 0.9802\n",
      "Epoch 2/3\n",
      "266/266 [==============================] - 26s 96ms/step - loss: 0.0647 - accuracy: 0.9799 - val_loss: 0.0690 - val_accuracy: 0.9794\n",
      "Epoch 3/3\n",
      "266/266 [==============================] - 27s 100ms/step - loss: 0.0442 - accuracy: 0.9859 - val_loss: 0.0670 - val_accuracy: 0.9823\n"
     ]
    },
    {
     "name": "stderr",
     "output_type": "stream",
     "text": [
      "[I 2023-09-19 16:20:03,637] Trial 24 finished with value: 0.982275128364563 and parameters: {'num_conv_layers': 2, 'filters': 64, 'kernel_size': 5, 'strides': 2, 'activation': 'relu', 'num_dense_layers': 2, 'units': 147, 'optimizer_name': 'RMSprop', 'learning_rate': 0.0007540819027010521, 'momentum': 0.7311251876835709}. Best is trial 8 with value: 0.9841269850730896.\n"
     ]
    },
    {
     "name": "stdout",
     "output_type": "stream",
     "text": [
      "Epoch 1/3\n",
      "266/266 [==============================] - 37s 129ms/step - loss: 0.2449 - accuracy: 0.9218 - val_loss: 0.0904 - val_accuracy: 0.9741\n",
      "Epoch 2/3\n",
      "266/266 [==============================] - 32s 119ms/step - loss: 0.0773 - accuracy: 0.9777 - val_loss: 0.1126 - val_accuracy: 0.9754\n",
      "Epoch 3/3\n",
      "266/266 [==============================] - 29s 110ms/step - loss: 0.0534 - accuracy: 0.9853 - val_loss: 0.1051 - val_accuracy: 0.9751\n"
     ]
    },
    {
     "name": "stderr",
     "output_type": "stream",
     "text": [
      "[I 2023-09-19 16:21:42,974] Trial 25 finished with value: 0.9751322865486145 and parameters: {'num_conv_layers': 3, 'filters': 64, 'kernel_size': 5, 'strides': 2, 'activation': 'relu', 'num_dense_layers': 2, 'units': 177, 'optimizer_name': 'RMSprop', 'learning_rate': 0.0009388947670869972, 'momentum': 0.7599033014636368}. Best is trial 8 with value: 0.9841269850730896.\n"
     ]
    },
    {
     "name": "stdout",
     "output_type": "stream",
     "text": [
      "Epoch 1/3\n",
      "266/266 [==============================] - 31s 110ms/step - loss: 0.9015 - accuracy: 0.6935 - val_loss: 0.4447 - val_accuracy: 0.8683\n",
      "Epoch 2/3\n",
      "266/266 [==============================] - 30s 113ms/step - loss: 0.4386 - accuracy: 0.8699 - val_loss: 0.4846 - val_accuracy: 0.8503\n",
      "Epoch 3/3\n",
      "266/266 [==============================] - 30s 111ms/step - loss: 0.3949 - accuracy: 0.8819 - val_loss: 0.4474 - val_accuracy: 0.8714\n"
     ]
    },
    {
     "name": "stderr",
     "output_type": "stream",
     "text": [
      "[I 2023-09-19 16:23:14,899] Trial 26 finished with value: 0.8714285492897034 and parameters: {'num_conv_layers': 3, 'filters': 64, 'kernel_size': 5, 'strides': 2, 'activation': 'tanh', 'num_dense_layers': 2, 'units': 43, 'optimizer_name': 'RMSprop', 'learning_rate': 0.002753592230674655, 'momentum': 0.8043093309593712}. Best is trial 8 with value: 0.9841269850730896.\n"
     ]
    },
    {
     "name": "stdout",
     "output_type": "stream",
     "text": [
      "Epoch 1/3\n",
      "210/266 [======================>.......] - ETA: 4s - loss: 0.2267 - accuracy: 0.9257"
     ]
    }
   ],
   "source": [
    "study = optuna.create_study(\n",
    "    direction='maximize',\n",
    "    study_name=study_name,\n",
    "#    storage=storage_name,\n",
    "    load_if_exists=True,\n",
    ")\n",
    "\n",
    "study.optimize(objective, n_trials=30)"
   ]
  },
  {
   "cell_type": "markdown",
   "metadata": {},
   "source": [
    "# Analyze results"
   ]
  },
  {
   "cell_type": "code",
   "execution_count": 18,
   "metadata": {},
   "outputs": [
    {
     "data": {
      "text/plain": [
       "{'activation': 'relu',\n",
       " 'filters': 64,\n",
       " 'kernel_size': 5,\n",
       " 'learning_rate': 0.0020539678624769604,\n",
       " 'num_conv_layers': 3,\n",
       " 'num_dense_layers': 2,\n",
       " 'optimizer_name': 'Adam',\n",
       " 'strides': 2,\n",
       " 'units': 114}"
      ]
     },
     "execution_count": 18,
     "metadata": {},
     "output_type": "execute_result"
    }
   ],
   "source": [
    "study.best_params"
   ]
  },
  {
   "cell_type": "code",
   "execution_count": 19,
   "metadata": {},
   "outputs": [
    {
     "data": {
      "text/plain": [
       "0.9838624596595764"
      ]
     },
     "execution_count": 19,
     "metadata": {},
     "output_type": "execute_result"
    }
   ],
   "source": [
    "study.best_value"
   ]
  },
  {
   "cell_type": "code",
   "execution_count": 20,
   "metadata": {},
   "outputs": [
    {
     "data": {
      "text/plain": [
       "Text(0, 0.5, 'Accuracy')"
      ]
     },
     "execution_count": 20,
     "metadata": {},
     "output_type": "execute_result"
    },
    {
     "data": {
      "image/png": "[encoded data removed]",
      "text/plain": [
       "<Figure size 432x288 with 1 Axes>"
      ]
     },
     "metadata": {
      "needs_background": "light"
     },
     "output_type": "display_data"
    }
   ],
   "source": [
    "results = study.trials_dataframe()\n",
    "\n",
    "results['value'].sort_values().reset_index(drop=True).plot()\n",
    "plt.title('Convergence plot')\n",
    "plt.xlabel('Iteration')\n",
    "plt.ylabel('Accuracy')"
   ]
  },
  {
   "cell_type": "markdown",
   "metadata": {
    "_cell_guid": "e758621d-b27b-40ff-a93f-bebd2e0e5243",
    "_uuid": "0a1834f2a9f2db15dcaba4a84004b9627d714469"
   },
   "source": [
    "# Evaluate the model"
   ]
  },
  {
   "cell_type": "code",
   "execution_count": 21,
   "metadata": {},
   "outputs": [],
   "source": [
    "# load best model\n",
    "\n",
    "model = load_model(path_best_model)"
   ]
  },
  {
   "cell_type": "code",
   "execution_count": 22,
   "metadata": {},
   "outputs": [
    {
     "name": "stdout",
     "output_type": "stream",
     "text": [
      "Model: \"sequential_12\"\n",
      "_________________________________________________________________\n",
      "Layer (type)                 Output Shape              Param #   \n",
      "=================================================================\n",
      "conv2d_24 (Conv2D)           (None, 14, 14, 64)        1664      \n",
      "_________________________________________________________________\n",
      "conv2d_25 (Conv2D)           (None, 7, 7, 64)          102464    \n",
      "_________________________________________________________________\n",
      "conv2d_26 (Conv2D)           (None, 4, 4, 64)          102464    \n",
      "_________________________________________________________________\n",
      "max_pooling2d_12 (MaxPooling (None, 2, 2, 64)          0         \n",
      "_________________________________________________________________\n",
      "flatten_12 (Flatten)         (None, 256)               0         \n",
      "_________________________________________________________________\n",
      "dense_35 (Dense)             (None, 114)               29298     \n",
      "_________________________________________________________________\n",
      "dense_36 (Dense)             (None, 114)               13110     \n",
      "_________________________________________________________________\n",
      "dense_37 (Dense)             (None, 10)                1150      \n",
      "=================================================================\n",
      "Total params: 250,150\n",
      "Trainable params: 250,150\n",
      "Non-trainable params: 0\n",
      "_________________________________________________________________\n"
     ]
    }
   ],
   "source": [
    "model.summary()"
   ]
  },
  {
   "cell_type": "code",
   "execution_count": 23,
   "metadata": {},
   "outputs": [
    {
     "name": "stdout",
     "output_type": "stream",
     "text": [
      "132/132 [==============================] - 1s 7ms/step - loss: 0.0597 - accuracy: 0.9821\n"
     ]
    }
   ],
   "source": [
    "# make predictions in test set\n",
    "\n",
    "result = model.evaluate(x=X_test,\n",
    "                        y=y_test)"
   ]
  },
  {
   "cell_type": "code",
   "execution_count": 24,
   "metadata": {},
   "outputs": [
    {
     "name": "stdout",
     "output_type": "stream",
     "text": [
      "loss 0.05974521115422249\n",
      "accuracy 0.9821428656578064\n"
     ]
    }
   ],
   "source": [
    "# print evaluation metrics\n",
    "\n",
    "for name, value in zip(model.metrics_names, result):\n",
    "    print(name, value)"
   ]
  },
  {
   "cell_type": "markdown",
   "metadata": {
    "_cell_guid": "5688faa0-b33b-4e92-b125-7fa0b37e7df3",
    "_uuid": "3306d29b732341663e50866140dc569360701a81"
   },
   "source": [
    "## Confusion matrix"
   ]
  },
  {
   "cell_type": "code",
   "execution_count": 25,
   "metadata": {},
   "outputs": [
    {
     "data": {
      "text/plain": [
       "array([[416,   0,   0,   0,   1,   0,   2,   0,   3,   0],\n",
       "       [  0, 466,   3,   0,   0,   0,   1,   2,   1,   0],\n",
       "       [  2,   0, 405,   1,   0,   0,   0,   0,   1,   0],\n",
       "       [  0,   0,   1, 419,   0,   1,   1,   3,   0,   1],\n",
       "       [  1,   3,   0,   0, 419,   0,   3,   0,   0,   3],\n",
       "       [  0,   0,   0,   1,   0, 376,   2,   0,   3,   0],\n",
       "       [  0,   0,   0,   0,   2,   0, 409,   0,   1,   0],\n",
       "       [  0,   2,   6,   1,   0,   1,   0, 457,   0,   2],\n",
       "       [  0,   1,   1,   0,   0,   0,   1,   1, 379,   1],\n",
       "       [  2,   2,   0,   4,   5,   0,   0,   1,   1, 379]], dtype=int64)"
      ]
     },
     "execution_count": 25,
     "metadata": {},
     "output_type": "execute_result"
    }
   ],
   "source": [
    "# Predict the values from the validation dataset\n",
    "y_pred = model.predict(X_test)\n",
    "\n",
    "# Convert predictions classes to one hot vectors \n",
    "y_pred_classes = np.argmax(y_pred, axis = 1)\n",
    "\n",
    "# Convert validation observations to one hot vectors\n",
    "y_true = np.argmax(y_test, axis = 1)\n",
    "\n",
    "# compute the confusion matrix\n",
    "cm = confusion_matrix(y_true, y_pred_classes) \n",
    "\n",
    "cm"
   ]
  },
  {
   "cell_type": "code",
   "execution_count": 26,
   "metadata": {
    "_cell_guid": "11361e73-8250-4bf5-a353-b0f8ea83e659",
    "_execution_state": "idle",
    "_uuid": "16e161179bf1b51ba66c39b2cead883f1db3a9c7"
   },
   "outputs": [
    {
     "data": {
      "text/plain": [
       "Text(0.5, 13.421126458070283, 'Predicted label')"
      ]
     },
     "execution_count": 26,
     "metadata": {},
     "output_type": "execute_result"
    },
    {
     "data": {
      "image/png": "[encoded data removed]",
      "text/plain": [
       "<Figure size 432x288 with 2 Axes>"
      ]
     },
     "metadata": {
      "needs_background": "light"
     },
     "output_type": "display_data"
    }
   ],
   "source": [
    "# let's make it more colourful\n",
    "classes = 10\n",
    "\n",
    "plt.imshow(cm, interpolation='nearest', cmap=plt.cm.Blues)\n",
    "plt.title('Confusion matrix')\n",
    "plt.colorbar()\n",
    "tick_marks = np.arange(classes)\n",
    "plt.xticks(tick_marks, range(classes), rotation=45)\n",
    "plt.yticks(tick_marks, range(classes))\n",
    "\n",
    "for i, j in itertools.product(range(cm.shape[0]), range(cm.shape[1])):\n",
    "    plt.text(j, i, cm[i, j],\n",
    "             horizontalalignment=\"center\",\n",
    "             color=\"white\" if cm[i, j] > 100 else \"black\",\n",
    "            )\n",
    "\n",
    "plt.tight_layout()\n",
    "plt.ylabel('True label')\n",
    "plt.xlabel('Predicted label')"
   ]
  },
  {
   "cell_type": "markdown",
   "metadata": {
    "_cell_guid": "1b8a5cdc-9122-4e31-b9fa-0f6b57d33fc8",
    "_uuid": "ecb928433299b163ecc1f6c4e66d4ddcf38fe898"
   },
   "source": [
    "Here we can see that our CNN performs very well on all digits."
   ]
  },
  {
   "cell_type": "code",
   "execution_count": null,
   "metadata": {},
   "outputs": [],
   "source": []
  }
 ],
 "metadata": {
  "kernelspec": {
   "display_name": "Python 3 (ipykernel)",
   "language": "python",
   "name": "python3"
  },
  "language_info": {
   "codemirror_mode": {
    "name": "ipython",
    "version": 3
   },
   "file_extension": ".py",
   "mimetype": "text/x-python",
   "name": "python",
   "nbconvert_exporter": "python",
   "pygments_lexer": "ipython3",
   "version": "3.11.2"
  },
  "toc": {
   "base_numbering": 1,
   "nav_menu": {},
   "number_sections": true,
   "sideBar": true,
   "skip_h1_title": false,
   "title_cell": "Table of Contents",
   "title_sidebar": "Contents",
   "toc_cell": false,
   "toc_position": {
    "height": "calc(100% - 180px)",
    "left": "10px",
    "top": "150px",
    "width": "288.467px"
   },
   "toc_section_display": true,
   "toc_window_display": true
  }
 },
 "nbformat": 4,
 "nbformat_minor": 2
}
