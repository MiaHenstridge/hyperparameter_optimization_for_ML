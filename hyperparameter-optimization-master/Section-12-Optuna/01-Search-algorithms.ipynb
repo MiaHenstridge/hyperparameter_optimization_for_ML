{
 "cells": [
  {
   "cell_type": "markdown",
   "metadata": {},
   "source": [
    "## Search algorithms within Optuna\n",
    "\n",
    "In this notebook, I will demo how to select the search algorithm with Optuna. We will compare the use of:\n",
    "\n",
    "- Grid Search \n",
    "- Randomized search\n",
    "- Tree-structured Parzen Estimators\n",
    "- CMA-ES\n",
    "\n",
    "\n",
    "We can select the search algorithm from the [optuna.study.create_study()](https://optuna.readthedocs.io/en/stable/reference/generated/optuna.study.create_study.html#optuna.study.create_study) class."
   ]
  },
  {
   "cell_type": "code",
   "execution_count": 3,
   "metadata": {},
   "outputs": [],
   "source": [
    "import numpy as np\n",
    "import pandas as pd\n",
    "import matplotlib.pyplot as plt\n",
    "\n",
    "from sklearn.datasets import load_breast_cancer\n",
    "from sklearn.metrics import accuracy_score, roc_auc_score\n",
    "from sklearn.model_selection import cross_val_score, train_test_split\n",
    "from sklearn.ensemble import RandomForestClassifier\n",
    "\n",
    "import optuna"
   ]
  },
  {
   "cell_type": "code",
   "execution_count": 4,
   "metadata": {},
   "outputs": [
    {
     "data": {
      "text/html": [
       "<div>\n",
       "<style scoped>\n",
       "    .dataframe tbody tr th:only-of-type {\n",
       "        vertical-align: middle;\n",
       "    }\n",
       "\n",
       "    .dataframe tbody tr th {\n",
       "        vertical-align: top;\n",
       "    }\n",
       "\n",
       "    .dataframe thead th {\n",
       "        text-align: right;\n",
       "    }\n",
       "</style>\n",
       "<table border=\"1\" class=\"dataframe\">\n",
       "  <thead>\n",
       "    <tr style=\"text-align: right;\">\n",
       "      <th></th>\n",
       "      <th>0</th>\n",
       "      <th>1</th>\n",
       "      <th>2</th>\n",
       "      <th>3</th>\n",
       "      <th>4</th>\n",
       "      <th>5</th>\n",
       "      <th>6</th>\n",
       "      <th>7</th>\n",
       "      <th>8</th>\n",
       "      <th>9</th>\n",
       "      <th>...</th>\n",
       "      <th>20</th>\n",
       "      <th>21</th>\n",
       "      <th>22</th>\n",
       "      <th>23</th>\n",
       "      <th>24</th>\n",
       "      <th>25</th>\n",
       "      <th>26</th>\n",
       "      <th>27</th>\n",
       "      <th>28</th>\n",
       "      <th>29</th>\n",
       "    </tr>\n",
       "  </thead>\n",
       "  <tbody>\n",
       "    <tr>\n",
       "      <th>0</th>\n",
       "      <td>17.99</td>\n",
       "      <td>10.38</td>\n",
       "      <td>122.80</td>\n",
       "      <td>1001.0</td>\n",
       "      <td>0.11840</td>\n",
       "      <td>0.27760</td>\n",
       "      <td>0.3001</td>\n",
       "      <td>0.14710</td>\n",
       "      <td>0.2419</td>\n",
       "      <td>0.07871</td>\n",
       "      <td>...</td>\n",
       "      <td>25.38</td>\n",
       "      <td>17.33</td>\n",
       "      <td>184.60</td>\n",
       "      <td>2019.0</td>\n",
       "      <td>0.1622</td>\n",
       "      <td>0.6656</td>\n",
       "      <td>0.7119</td>\n",
       "      <td>0.2654</td>\n",
       "      <td>0.4601</td>\n",
       "      <td>0.11890</td>\n",
       "    </tr>\n",
       "    <tr>\n",
       "      <th>1</th>\n",
       "      <td>20.57</td>\n",
       "      <td>17.77</td>\n",
       "      <td>132.90</td>\n",
       "      <td>1326.0</td>\n",
       "      <td>0.08474</td>\n",
       "      <td>0.07864</td>\n",
       "      <td>0.0869</td>\n",
       "      <td>0.07017</td>\n",
       "      <td>0.1812</td>\n",
       "      <td>0.05667</td>\n",
       "      <td>...</td>\n",
       "      <td>24.99</td>\n",
       "      <td>23.41</td>\n",
       "      <td>158.80</td>\n",
       "      <td>1956.0</td>\n",
       "      <td>0.1238</td>\n",
       "      <td>0.1866</td>\n",
       "      <td>0.2416</td>\n",
       "      <td>0.1860</td>\n",
       "      <td>0.2750</td>\n",
       "      <td>0.08902</td>\n",
       "    </tr>\n",
       "    <tr>\n",
       "      <th>2</th>\n",
       "      <td>19.69</td>\n",
       "      <td>21.25</td>\n",
       "      <td>130.00</td>\n",
       "      <td>1203.0</td>\n",
       "      <td>0.10960</td>\n",
       "      <td>0.15990</td>\n",
       "      <td>0.1974</td>\n",
       "      <td>0.12790</td>\n",
       "      <td>0.2069</td>\n",
       "      <td>0.05999</td>\n",
       "      <td>...</td>\n",
       "      <td>23.57</td>\n",
       "      <td>25.53</td>\n",
       "      <td>152.50</td>\n",
       "      <td>1709.0</td>\n",
       "      <td>0.1444</td>\n",
       "      <td>0.4245</td>\n",
       "      <td>0.4504</td>\n",
       "      <td>0.2430</td>\n",
       "      <td>0.3613</td>\n",
       "      <td>0.08758</td>\n",
       "    </tr>\n",
       "    <tr>\n",
       "      <th>3</th>\n",
       "      <td>11.42</td>\n",
       "      <td>20.38</td>\n",
       "      <td>77.58</td>\n",
       "      <td>386.1</td>\n",
       "      <td>0.14250</td>\n",
       "      <td>0.28390</td>\n",
       "      <td>0.2414</td>\n",
       "      <td>0.10520</td>\n",
       "      <td>0.2597</td>\n",
       "      <td>0.09744</td>\n",
       "      <td>...</td>\n",
       "      <td>14.91</td>\n",
       "      <td>26.50</td>\n",
       "      <td>98.87</td>\n",
       "      <td>567.7</td>\n",
       "      <td>0.2098</td>\n",
       "      <td>0.8663</td>\n",
       "      <td>0.6869</td>\n",
       "      <td>0.2575</td>\n",
       "      <td>0.6638</td>\n",
       "      <td>0.17300</td>\n",
       "    </tr>\n",
       "    <tr>\n",
       "      <th>4</th>\n",
       "      <td>20.29</td>\n",
       "      <td>14.34</td>\n",
       "      <td>135.10</td>\n",
       "      <td>1297.0</td>\n",
       "      <td>0.10030</td>\n",
       "      <td>0.13280</td>\n",
       "      <td>0.1980</td>\n",
       "      <td>0.10430</td>\n",
       "      <td>0.1809</td>\n",
       "      <td>0.05883</td>\n",
       "      <td>...</td>\n",
       "      <td>22.54</td>\n",
       "      <td>16.67</td>\n",
       "      <td>152.20</td>\n",
       "      <td>1575.0</td>\n",
       "      <td>0.1374</td>\n",
       "      <td>0.2050</td>\n",
       "      <td>0.4000</td>\n",
       "      <td>0.1625</td>\n",
       "      <td>0.2364</td>\n",
       "      <td>0.07678</td>\n",
       "    </tr>\n",
       "  </tbody>\n",
       "</table>\n",
       "<p>5 rows × 30 columns</p>\n",
       "</div>"
      ],
      "text/plain": [
       "      0      1       2       3        4        5       6        7       8   \\\n",
       "0  17.99  10.38  122.80  1001.0  0.11840  0.27760  0.3001  0.14710  0.2419   \n",
       "1  20.57  17.77  132.90  1326.0  0.08474  0.07864  0.0869  0.07017  0.1812   \n",
       "2  19.69  21.25  130.00  1203.0  0.10960  0.15990  0.1974  0.12790  0.2069   \n",
       "3  11.42  20.38   77.58   386.1  0.14250  0.28390  0.2414  0.10520  0.2597   \n",
       "4  20.29  14.34  135.10  1297.0  0.10030  0.13280  0.1980  0.10430  0.1809   \n",
       "\n",
       "        9   ...     20     21      22      23      24      25      26      27  \\\n",
       "0  0.07871  ...  25.38  17.33  184.60  2019.0  0.1622  0.6656  0.7119  0.2654   \n",
       "1  0.05667  ...  24.99  23.41  158.80  1956.0  0.1238  0.1866  0.2416  0.1860   \n",
       "2  0.05999  ...  23.57  25.53  152.50  1709.0  0.1444  0.4245  0.4504  0.2430   \n",
       "3  0.09744  ...  14.91  26.50   98.87   567.7  0.2098  0.8663  0.6869  0.2575   \n",
       "4  0.05883  ...  22.54  16.67  152.20  1575.0  0.1374  0.2050  0.4000  0.1625   \n",
       "\n",
       "       28       29  \n",
       "0  0.4601  0.11890  \n",
       "1  0.2750  0.08902  \n",
       "2  0.3613  0.08758  \n",
       "3  0.6638  0.17300  \n",
       "4  0.2364  0.07678  \n",
       "\n",
       "[5 rows x 30 columns]"
      ]
     },
     "execution_count": 4,
     "metadata": {},
     "output_type": "execute_result"
    }
   ],
   "source": [
    "# load dataset\n",
    "\n",
    "breast_cancer_X, breast_cancer_y = load_breast_cancer(return_X_y=True)\n",
    "X = pd.DataFrame(breast_cancer_X)\n",
    "y = pd.Series(breast_cancer_y).map({0:1, 1:0})\n",
    "\n",
    "X.head()"
   ]
  },
  {
   "cell_type": "code",
   "execution_count": 5,
   "metadata": {},
   "outputs": [
    {
     "data": {
      "text/plain": [
       "0    0.627417\n",
       "1    0.372583\n",
       "dtype: float64"
      ]
     },
     "execution_count": 5,
     "metadata": {},
     "output_type": "execute_result"
    }
   ],
   "source": [
    "# the target:\n",
    "# percentage of benign (0) and malign tumors (1)\n",
    "\n",
    "y.value_counts() / len(y)"
   ]
  },
  {
   "cell_type": "code",
   "execution_count": 6,
   "metadata": {},
   "outputs": [
    {
     "data": {
      "text/plain": [
       "((398, 30), (171, 30))"
      ]
     },
     "execution_count": 6,
     "metadata": {},
     "output_type": "execute_result"
    }
   ],
   "source": [
    "# split dataset into a train and test set\n",
    "\n",
    "X_train, X_test, y_train, y_test = train_test_split(\n",
    "    X, y, test_size=0.3, random_state=0)\n",
    "\n",
    "X_train.shape, X_test.shape"
   ]
  },
  {
   "cell_type": "markdown",
   "metadata": {},
   "source": [
    "## Define the objective function\n",
    "\n",
    "This is the hyperparameter response space, the function we want to minimize."
   ]
  },
  {
   "cell_type": "code",
   "execution_count": 7,
   "metadata": {},
   "outputs": [],
   "source": [
    "# the objective function takes the hyperparameter space\n",
    "# as input\n",
    "\n",
    "def objective(trial):\n",
    "\n",
    "    rf_n_estimators = trial.suggest_int(\"rf_n_estimators\", 100, 1000)\n",
    "    rf_criterion = trial.suggest_categorical(\"rf_criterion\", ['gini', 'entropy'])\n",
    "    rf_max_depth = trial.suggest_int(\"rf_max_depth\", 1, 4)\n",
    "    rf_min_samples_split = trial.suggest_float(\"rf_min_samples_split\", 0.01, 1)\n",
    "    \n",
    "    model = RandomForestClassifier(\n",
    "        n_estimators=rf_n_estimators,\n",
    "        criterion=rf_criterion,\n",
    "        max_depth=rf_max_depth,\n",
    "        min_samples_split=rf_min_samples_split,\n",
    "    )\n",
    "\n",
    "    score = cross_val_score(model, X_train, y_train, cv=3)\n",
    "    accuracy = score.mean()\n",
    "    return accuracy"
   ]
  },
  {
   "cell_type": "markdown",
   "metadata": {},
   "source": [
    "## Randomized Search\n",
    "\n",
    "RandomSampler()"
   ]
  },
  {
   "cell_type": "code",
   "execution_count": 8,
   "metadata": {},
   "outputs": [
    {
     "name": "stderr",
     "output_type": "stream",
     "text": [
      "[I 2023-09-19 15:00:33,703] A new study created in memory with name: no-name-c1cd6854-419c-43c5-ac77-6287705f0d17\n",
      "[I 2023-09-19 15:00:35,440] Trial 0 finished with value: 0.9171223513328776 and parameters: {'rf_n_estimators': 530, 'rf_criterion': 'gini', 'rf_max_depth': 1, 'rf_min_samples_split': 0.5495658093998813}. Best is trial 0 with value: 0.9171223513328776.\n",
      "[I 2023-09-19 15:00:39,533] Trial 1 finished with value: 0.9347041847041847 and parameters: {'rf_n_estimators': 977, 'rf_criterion': 'entropy', 'rf_max_depth': 3, 'rf_min_samples_split': 0.08530102625612997}. Best is trial 1 with value: 0.9347041847041847.\n",
      "[I 2023-09-19 15:00:40,151] Trial 2 finished with value: 0.6256360598465861 and parameters: {'rf_n_estimators': 212, 'rf_criterion': 'gini', 'rf_max_depth': 2, 'rf_min_samples_split': 0.979190748590727}. Best is trial 1 with value: 0.9347041847041847.\n",
      "[I 2023-09-19 15:00:41,691] Trial 3 finished with value: 0.9171223513328776 and parameters: {'rf_n_estimators': 440, 'rf_criterion': 'entropy', 'rf_max_depth': 1, 'rf_min_samples_split': 0.3644929235427969}. Best is trial 1 with value: 0.9347041847041847.\n",
      "[I 2023-09-19 15:00:43,140] Trial 4 finished with value: 0.6256360598465861 and parameters: {'rf_n_estimators': 500, 'rf_criterion': 'entropy', 'rf_max_depth': 1, 'rf_min_samples_split': 0.6968802148754079}. Best is trial 1 with value: 0.9347041847041847.\n"
     ]
    }
   ],
   "source": [
    "study = optuna.create_study(\n",
    "    direction=\"maximize\",\n",
    "    sampler=optuna.samplers.RandomSampler(),\n",
    ")\n",
    "\n",
    "\n",
    "study.optimize(objective, n_trials=5)"
   ]
  },
  {
   "cell_type": "code",
   "execution_count": 9,
   "metadata": {},
   "outputs": [
    {
     "data": {
      "text/plain": [
       "{'rf_n_estimators': 977,\n",
       " 'rf_criterion': 'entropy',\n",
       " 'rf_max_depth': 3,\n",
       " 'rf_min_samples_split': 0.08530102625612997}"
      ]
     },
     "execution_count": 9,
     "metadata": {},
     "output_type": "execute_result"
    }
   ],
   "source": [
    "study.best_params"
   ]
  },
  {
   "cell_type": "code",
   "execution_count": 10,
   "metadata": {},
   "outputs": [
    {
     "data": {
      "text/plain": [
       "0.9347041847041847"
      ]
     },
     "execution_count": 10,
     "metadata": {},
     "output_type": "execute_result"
    }
   ],
   "source": [
    "study.best_value"
   ]
  },
  {
   "cell_type": "code",
   "execution_count": 11,
   "metadata": {},
   "outputs": [
    {
     "data": {
      "text/html": [
       "<div>\n",
       "<style scoped>\n",
       "    .dataframe tbody tr th:only-of-type {\n",
       "        vertical-align: middle;\n",
       "    }\n",
       "\n",
       "    .dataframe tbody tr th {\n",
       "        vertical-align: top;\n",
       "    }\n",
       "\n",
       "    .dataframe thead th {\n",
       "        text-align: right;\n",
       "    }\n",
       "</style>\n",
       "<table border=\"1\" class=\"dataframe\">\n",
       "  <thead>\n",
       "    <tr style=\"text-align: right;\">\n",
       "      <th></th>\n",
       "      <th>number</th>\n",
       "      <th>value</th>\n",
       "      <th>datetime_start</th>\n",
       "      <th>datetime_complete</th>\n",
       "      <th>duration</th>\n",
       "      <th>params_rf_criterion</th>\n",
       "      <th>params_rf_max_depth</th>\n",
       "      <th>params_rf_min_samples_split</th>\n",
       "      <th>params_rf_n_estimators</th>\n",
       "      <th>state</th>\n",
       "    </tr>\n",
       "  </thead>\n",
       "  <tbody>\n",
       "    <tr>\n",
       "      <th>0</th>\n",
       "      <td>0</td>\n",
       "      <td>0.917122</td>\n",
       "      <td>2023-09-19 15:00:33.705015</td>\n",
       "      <td>2023-09-19 15:00:35.439033</td>\n",
       "      <td>0 days 00:00:01.734018</td>\n",
       "      <td>gini</td>\n",
       "      <td>1</td>\n",
       "      <td>0.549566</td>\n",
       "      <td>530</td>\n",
       "      <td>COMPLETE</td>\n",
       "    </tr>\n",
       "    <tr>\n",
       "      <th>1</th>\n",
       "      <td>1</td>\n",
       "      <td>0.934704</td>\n",
       "      <td>2023-09-19 15:00:35.441064</td>\n",
       "      <td>2023-09-19 15:00:39.533783</td>\n",
       "      <td>0 days 00:00:04.092719</td>\n",
       "      <td>entropy</td>\n",
       "      <td>3</td>\n",
       "      <td>0.085301</td>\n",
       "      <td>977</td>\n",
       "      <td>COMPLETE</td>\n",
       "    </tr>\n",
       "    <tr>\n",
       "      <th>2</th>\n",
       "      <td>2</td>\n",
       "      <td>0.625636</td>\n",
       "      <td>2023-09-19 15:00:39.534782</td>\n",
       "      <td>2023-09-19 15:00:40.151091</td>\n",
       "      <td>0 days 00:00:00.616309</td>\n",
       "      <td>gini</td>\n",
       "      <td>2</td>\n",
       "      <td>0.979191</td>\n",
       "      <td>212</td>\n",
       "      <td>COMPLETE</td>\n",
       "    </tr>\n",
       "    <tr>\n",
       "      <th>3</th>\n",
       "      <td>3</td>\n",
       "      <td>0.917122</td>\n",
       "      <td>2023-09-19 15:00:40.151091</td>\n",
       "      <td>2023-09-19 15:00:41.691507</td>\n",
       "      <td>0 days 00:00:01.540416</td>\n",
       "      <td>entropy</td>\n",
       "      <td>1</td>\n",
       "      <td>0.364493</td>\n",
       "      <td>440</td>\n",
       "      <td>COMPLETE</td>\n",
       "    </tr>\n",
       "    <tr>\n",
       "      <th>4</th>\n",
       "      <td>4</td>\n",
       "      <td>0.625636</td>\n",
       "      <td>2023-09-19 15:00:41.692523</td>\n",
       "      <td>2023-09-19 15:00:43.139739</td>\n",
       "      <td>0 days 00:00:01.447216</td>\n",
       "      <td>entropy</td>\n",
       "      <td>1</td>\n",
       "      <td>0.696880</td>\n",
       "      <td>500</td>\n",
       "      <td>COMPLETE</td>\n",
       "    </tr>\n",
       "  </tbody>\n",
       "</table>\n",
       "</div>"
      ],
      "text/plain": [
       "   number     value             datetime_start          datetime_complete  \\\n",
       "0       0  0.917122 2023-09-19 15:00:33.705015 2023-09-19 15:00:35.439033   \n",
       "1       1  0.934704 2023-09-19 15:00:35.441064 2023-09-19 15:00:39.533783   \n",
       "2       2  0.625636 2023-09-19 15:00:39.534782 2023-09-19 15:00:40.151091   \n",
       "3       3  0.917122 2023-09-19 15:00:40.151091 2023-09-19 15:00:41.691507   \n",
       "4       4  0.625636 2023-09-19 15:00:41.692523 2023-09-19 15:00:43.139739   \n",
       "\n",
       "                duration params_rf_criterion  params_rf_max_depth  \\\n",
       "0 0 days 00:00:01.734018                gini                    1   \n",
       "1 0 days 00:00:04.092719             entropy                    3   \n",
       "2 0 days 00:00:00.616309                gini                    2   \n",
       "3 0 days 00:00:01.540416             entropy                    1   \n",
       "4 0 days 00:00:01.447216             entropy                    1   \n",
       "\n",
       "   params_rf_min_samples_split  params_rf_n_estimators     state  \n",
       "0                     0.549566                     530  COMPLETE  \n",
       "1                     0.085301                     977  COMPLETE  \n",
       "2                     0.979191                     212  COMPLETE  \n",
       "3                     0.364493                     440  COMPLETE  \n",
       "4                     0.696880                     500  COMPLETE  "
      ]
     },
     "execution_count": 11,
     "metadata": {},
     "output_type": "execute_result"
    }
   ],
   "source": [
    "study.trials_dataframe()"
   ]
  },
  {
   "cell_type": "markdown",
   "metadata": {},
   "source": [
    "## TPE\n",
    "\n",
    "TPESampler is the default"
   ]
  },
  {
   "cell_type": "code",
   "execution_count": 12,
   "metadata": {},
   "outputs": [
    {
     "name": "stderr",
     "output_type": "stream",
     "text": [
      "[I 2023-09-19 15:00:52,697] A new study created in memory with name: no-name-848b3e70-b941-4f1e-8817-3e2ce32734fc\n",
      "[I 2023-09-19 15:00:55,429] Trial 0 finished with value: 0.9171413381939697 and parameters: {'rf_n_estimators': 840, 'rf_criterion': 'gini', 'rf_max_depth': 1, 'rf_min_samples_split': 0.3576700502122706}. Best is trial 0 with value: 0.9171413381939697.\n",
      "[I 2023-09-19 15:00:56,208] Trial 1 finished with value: 0.937210450368345 and parameters: {'rf_n_estimators': 201, 'rf_criterion': 'entropy', 'rf_max_depth': 2, 'rf_min_samples_split': 0.15745568340980173}. Best is trial 1 with value: 0.937210450368345.\n",
      "[I 2023-09-19 15:00:59,399] Trial 2 finished with value: 0.9371724766461608 and parameters: {'rf_n_estimators': 865, 'rf_criterion': 'gini', 'rf_max_depth': 3, 'rf_min_samples_split': 0.25808930498832133}. Best is trial 1 with value: 0.937210450368345.\n",
      "[I 2023-09-19 15:01:02,695] Trial 3 finished with value: 0.9371724766461608 and parameters: {'rf_n_estimators': 837, 'rf_criterion': 'gini', 'rf_max_depth': 4, 'rf_min_samples_split': 0.22421756818135105}. Best is trial 1 with value: 0.937210450368345.\n",
      "[I 2023-09-19 15:01:04,995] Trial 4 finished with value: 0.6256360598465861 and parameters: {'rf_n_estimators': 799, 'rf_criterion': 'entropy', 'rf_max_depth': 3, 'rf_min_samples_split': 0.888729792754994}. Best is trial 1 with value: 0.937210450368345.\n"
     ]
    }
   ],
   "source": [
    "study = optuna.create_study(\n",
    "    direction=\"maximize\",\n",
    "    sampler=optuna.samplers.TPESampler(),\n",
    ")\n",
    "\n",
    "\n",
    "study.optimize(objective, n_trials=5)"
   ]
  },
  {
   "cell_type": "code",
   "execution_count": 13,
   "metadata": {},
   "outputs": [
    {
     "data": {
      "text/plain": [
       "{'rf_n_estimators': 201,\n",
       " 'rf_criterion': 'entropy',\n",
       " 'rf_max_depth': 2,\n",
       " 'rf_min_samples_split': 0.15745568340980173}"
      ]
     },
     "execution_count": 13,
     "metadata": {},
     "output_type": "execute_result"
    }
   ],
   "source": [
    "study.best_params"
   ]
  },
  {
   "cell_type": "code",
   "execution_count": 14,
   "metadata": {},
   "outputs": [
    {
     "data": {
      "text/plain": [
       "0.937210450368345"
      ]
     },
     "execution_count": 14,
     "metadata": {},
     "output_type": "execute_result"
    }
   ],
   "source": [
    "study.best_value"
   ]
  },
  {
   "cell_type": "markdown",
   "metadata": {},
   "source": [
    "## CMA-ES\n",
    "\n",
    "CmaEsSampler"
   ]
  },
  {
   "cell_type": "code",
   "execution_count": 15,
   "metadata": {},
   "outputs": [
    {
     "name": "stderr",
     "output_type": "stream",
     "text": [
      "[I 2023-09-19 15:01:18,083] A new study created in memory with name: no-name-ea1b8752-ba4d-441a-8ff3-accb9dc8918b\n",
      "[I 2023-09-19 15:01:19,015] Trial 0 finished with value: 0.6256360598465861 and parameters: {'rf_n_estimators': 310, 'rf_criterion': 'entropy', 'rf_max_depth': 2, 'rf_min_samples_split': 0.6557467903015166}. Best is trial 0 with value: 0.6256360598465861.\n",
      "[W 2023-09-19 15:01:19,029] The parameter 'rf_criterion' in trial#1 is sampled independently by using `RandomSampler` instead of `CmaEsSampler` (optimization performance may be degraded). `CmaEsSampler` does not support dynamic search space or `CategoricalDistribution`. You can suppress this warning by setting `warn_independent_sampling` to `False` in the constructor of `CmaEsSampler`, if this independent sampling is intended behavior.\n",
      "[I 2023-09-19 15:01:21,572] Trial 1 finished with value: 0.9321409584567478 and parameters: {'rf_n_estimators': 687, 'rf_criterion': 'gini', 'rf_max_depth': 4, 'rf_min_samples_split': 0.3568722577262274}. Best is trial 1 with value: 0.9321409584567478.\n",
      "[W 2023-09-19 15:01:21,574] The parameter 'rf_criterion' in trial#2 is sampled independently by using `RandomSampler` instead of `CmaEsSampler` (optimization performance may be degraded). `CmaEsSampler` does not support dynamic search space or `CategoricalDistribution`. You can suppress this warning by setting `warn_independent_sampling` to `False` in the constructor of `CmaEsSampler`, if this independent sampling is intended behavior.\n",
      "[I 2023-09-19 15:01:22,713] Trial 2 finished with value: 0.9121098200045568 and parameters: {'rf_n_estimators': 344, 'rf_criterion': 'entropy', 'rf_max_depth': 2, 'rf_min_samples_split': 0.6137688038029049}. Best is trial 1 with value: 0.9321409584567478.\n",
      "[W 2023-09-19 15:01:22,715] The parameter 'rf_criterion' in trial#3 is sampled independently by using `RandomSampler` instead of `CmaEsSampler` (optimization performance may be degraded). `CmaEsSampler` does not support dynamic search space or `CategoricalDistribution`. You can suppress this warning by setting `warn_independent_sampling` to `False` in the constructor of `CmaEsSampler`, if this independent sampling is intended behavior.\n",
      "[I 2023-09-19 15:01:24,471] Trial 3 finished with value: 0.9396787423103211 and parameters: {'rf_n_estimators': 452, 'rf_criterion': 'entropy', 'rf_max_depth': 3, 'rf_min_samples_split': 0.33755205148759904}. Best is trial 3 with value: 0.9396787423103211.\n",
      "[W 2023-09-19 15:01:24,472] The parameter 'rf_criterion' in trial#4 is sampled independently by using `RandomSampler` instead of `CmaEsSampler` (optimization performance may be degraded). `CmaEsSampler` does not support dynamic search space or `CategoricalDistribution`. You can suppress this warning by setting `warn_independent_sampling` to `False` in the constructor of `CmaEsSampler`, if this independent sampling is intended behavior.\n",
      "[I 2023-09-19 15:01:26,551] Trial 4 finished with value: 0.9321409584567478 and parameters: {'rf_n_estimators': 571, 'rf_criterion': 'gini', 'rf_max_depth': 3, 'rf_min_samples_split': 0.2985121347957785}. Best is trial 3 with value: 0.9396787423103211.\n"
     ]
    }
   ],
   "source": [
    "study = optuna.create_study(\n",
    "    direction=\"maximize\",\n",
    "    sampler=optuna.samplers.CmaEsSampler(),\n",
    ")\n",
    "\n",
    "study.optimize(objective, n_trials=5)"
   ]
  },
  {
   "cell_type": "code",
   "execution_count": 16,
   "metadata": {},
   "outputs": [
    {
     "data": {
      "text/plain": [
       "{'rf_n_estimators': 452,\n",
       " 'rf_criterion': 'entropy',\n",
       " 'rf_max_depth': 3,\n",
       " 'rf_min_samples_split': 0.33755205148759904}"
      ]
     },
     "execution_count": 16,
     "metadata": {},
     "output_type": "execute_result"
    }
   ],
   "source": [
    "study.best_params"
   ]
  },
  {
   "cell_type": "code",
   "execution_count": 17,
   "metadata": {},
   "outputs": [
    {
     "data": {
      "text/plain": [
       "0.9396787423103211"
      ]
     },
     "execution_count": 17,
     "metadata": {},
     "output_type": "execute_result"
    }
   ],
   "source": [
    "study.best_value"
   ]
  },
  {
   "cell_type": "markdown",
   "metadata": {},
   "source": [
    "## Grid Search\n",
    "\n",
    "GridSampler()\n",
    "\n",
    "We are probably not going to perform GridSearch with Optuna, but in case you wanted to, you need to add a variable with the space, with the exact values that you want to be tested."
   ]
  },
  {
   "cell_type": "code",
   "execution_count": 18,
   "metadata": {},
   "outputs": [],
   "source": [
    "search_space = {\n",
    "    \"rf_n_estimators\": [100, 500, 1000],\n",
    "    \"rf_criterion\": ['gini', 'entropy'],\n",
    "    \"rf_max_depth\": [1, 2, 3],\n",
    "    \"rf_min_samples_split\": [0.1, 1.0]\n",
    "}\n"
   ]
  },
  {
   "cell_type": "code",
   "execution_count": 19,
   "metadata": {
    "scrolled": true
   },
   "outputs": [
    {
     "name": "stderr",
     "output_type": "stream",
     "text": [
      "[I 2023-09-19 15:01:44,659] A new study created in memory with name: no-name-1b99b545-19a2-4c1a-b456-d7936f838d7a\n",
      "[I 2023-09-19 15:01:44,963] Trial 0 finished with value: 0.6256360598465861 and parameters: {'rf_n_estimators': 100, 'rf_criterion': 'entropy', 'rf_max_depth': 1, 'rf_min_samples_split': 1.0}. Best is trial 0 with value: 0.6256360598465861.\n",
      "[I 2023-09-19 15:01:48,206] Trial 1 finished with value: 0.9171223513328776 and parameters: {'rf_n_estimators': 1000, 'rf_criterion': 'gini', 'rf_max_depth': 1, 'rf_min_samples_split': 0.1}. Best is trial 1 with value: 0.9171223513328776.\n",
      "[I 2023-09-19 15:01:50,113] Trial 2 finished with value: 0.937210450368345 and parameters: {'rf_n_estimators': 500, 'rf_criterion': 'entropy', 'rf_max_depth': 2, 'rf_min_samples_split': 0.1}. Best is trial 2 with value: 0.937210450368345.\n",
      "[I 2023-09-19 15:01:51,797] Trial 3 finished with value: 0.9146160856687172 and parameters: {'rf_n_estimators': 500, 'rf_criterion': 'entropy', 'rf_max_depth': 1, 'rf_min_samples_split': 0.1}. Best is trial 2 with value: 0.937210450368345.\n",
      "[I 2023-09-19 15:01:52,093] Trial 4 finished with value: 0.6256360598465861 and parameters: {'rf_n_estimators': 100, 'rf_criterion': 'gini', 'rf_max_depth': 2, 'rf_min_samples_split': 1.0}. Best is trial 2 with value: 0.937210450368345.\n",
      "[I 2023-09-19 15:01:53,536] Trial 5 finished with value: 0.6256360598465861 and parameters: {'rf_n_estimators': 500, 'rf_criterion': 'gini', 'rf_max_depth': 1, 'rf_min_samples_split': 1.0}. Best is trial 2 with value: 0.937210450368345.\n",
      "[I 2023-09-19 15:01:54,969] Trial 6 finished with value: 0.6256360598465861 and parameters: {'rf_n_estimators': 500, 'rf_criterion': 'entropy', 'rf_max_depth': 2, 'rf_min_samples_split': 1.0}. Best is trial 2 with value: 0.937210450368345.\n",
      "[I 2023-09-19 15:01:55,264] Trial 7 finished with value: 0.6256360598465861 and parameters: {'rf_n_estimators': 100, 'rf_criterion': 'gini', 'rf_max_depth': 3, 'rf_min_samples_split': 1.0}. Best is trial 2 with value: 0.937210450368345.\n",
      "[I 2023-09-19 15:01:58,170] Trial 8 finished with value: 0.6256360598465861 and parameters: {'rf_n_estimators': 1000, 'rf_criterion': 'entropy', 'rf_max_depth': 2, 'rf_min_samples_split': 1.0}. Best is trial 2 with value: 0.937210450368345.\n",
      "[I 2023-09-19 15:02:02,018] Trial 9 finished with value: 0.9397357028935976 and parameters: {'rf_n_estimators': 1000, 'rf_criterion': 'entropy', 'rf_max_depth': 2, 'rf_min_samples_split': 0.1}. Best is trial 9 with value: 0.9397357028935976.\n",
      "[I 2023-09-19 15:02:02,412] Trial 10 finished with value: 0.942241968557758 and parameters: {'rf_n_estimators': 100, 'rf_criterion': 'gini', 'rf_max_depth': 3, 'rf_min_samples_split': 0.1}. Best is trial 10 with value: 0.942241968557758.\n",
      "[I 2023-09-19 15:02:02,748] Trial 11 finished with value: 0.9095465937571201 and parameters: {'rf_n_estimators': 100, 'rf_criterion': 'gini', 'rf_max_depth': 1, 'rf_min_samples_split': 0.1}. Best is trial 10 with value: 0.942241968557758.\n",
      "[I 2023-09-19 15:02:06,403] Trial 12 finished with value: 0.9397357028935976 and parameters: {'rf_n_estimators': 1000, 'rf_criterion': 'gini', 'rf_max_depth': 2, 'rf_min_samples_split': 0.1}. Best is trial 10 with value: 0.942241968557758.\n",
      "[I 2023-09-19 15:02:08,318] Trial 13 finished with value: 0.9372294372294373 and parameters: {'rf_n_estimators': 500, 'rf_criterion': 'gini', 'rf_max_depth': 3, 'rf_min_samples_split': 0.1}. Best is trial 10 with value: 0.942241968557758.\n",
      "[I 2023-09-19 15:02:12,142] Trial 14 finished with value: 0.9397357028935976 and parameters: {'rf_n_estimators': 1000, 'rf_criterion': 'gini', 'rf_max_depth': 3, 'rf_min_samples_split': 0.1}. Best is trial 10 with value: 0.942241968557758.\n",
      "[I 2023-09-19 15:02:12,535] Trial 15 finished with value: 0.942241968557758 and parameters: {'rf_n_estimators': 100, 'rf_criterion': 'entropy', 'rf_max_depth': 2, 'rf_min_samples_split': 0.1}. Best is trial 10 with value: 0.942241968557758.\n",
      "[I 2023-09-19 15:02:16,200] Trial 16 finished with value: 0.9171223513328776 and parameters: {'rf_n_estimators': 1000, 'rf_criterion': 'entropy', 'rf_max_depth': 1, 'rf_min_samples_split': 0.1}. Best is trial 10 with value: 0.942241968557758.\n",
      "[I 2023-09-19 15:02:17,683] Trial 17 finished with value: 0.6256360598465861 and parameters: {'rf_n_estimators': 500, 'rf_criterion': 'entropy', 'rf_max_depth': 1, 'rf_min_samples_split': 1.0}. Best is trial 10 with value: 0.942241968557758.\n",
      "[I 2023-09-19 15:02:17,983] Trial 18 finished with value: 0.6256360598465861 and parameters: {'rf_n_estimators': 100, 'rf_criterion': 'entropy', 'rf_max_depth': 3, 'rf_min_samples_split': 1.0}. Best is trial 10 with value: 0.942241968557758.\n",
      "[I 2023-09-19 15:02:18,290] Trial 19 finished with value: 0.6256360598465861 and parameters: {'rf_n_estimators': 100, 'rf_criterion': 'entropy', 'rf_max_depth': 2, 'rf_min_samples_split': 1.0}. Best is trial 10 with value: 0.942241968557758.\n",
      "[I 2023-09-19 15:02:20,615] Trial 20 finished with value: 0.937210450368345 and parameters: {'rf_n_estimators': 500, 'rf_criterion': 'entropy', 'rf_max_depth': 3, 'rf_min_samples_split': 0.1}. Best is trial 10 with value: 0.942241968557758.\n",
      "[I 2023-09-19 15:02:22,198] Trial 21 finished with value: 0.6256360598465861 and parameters: {'rf_n_estimators': 500, 'rf_criterion': 'gini', 'rf_max_depth': 2, 'rf_min_samples_split': 1.0}. Best is trial 10 with value: 0.942241968557758.\n",
      "[I 2023-09-19 15:02:23,891] Trial 22 finished with value: 0.6256360598465861 and parameters: {'rf_n_estimators': 500, 'rf_criterion': 'gini', 'rf_max_depth': 3, 'rf_min_samples_split': 1.0}. Best is trial 10 with value: 0.942241968557758.\n",
      "[I 2023-09-19 15:02:24,281] Trial 23 finished with value: 0.9422039948355737 and parameters: {'rf_n_estimators': 100, 'rf_criterion': 'gini', 'rf_max_depth': 2, 'rf_min_samples_split': 0.1}. Best is trial 10 with value: 0.942241968557758.\n",
      "[I 2023-09-19 15:02:24,577] Trial 24 finished with value: 0.6256360598465861 and parameters: {'rf_n_estimators': 100, 'rf_criterion': 'gini', 'rf_max_depth': 1, 'rf_min_samples_split': 1.0}. Best is trial 10 with value: 0.942241968557758.\n",
      "[I 2023-09-19 15:02:24,962] Trial 25 finished with value: 0.924679122047543 and parameters: {'rf_n_estimators': 100, 'rf_criterion': 'entropy', 'rf_max_depth': 1, 'rf_min_samples_split': 0.1}. Best is trial 10 with value: 0.942241968557758.\n",
      "[I 2023-09-19 15:02:29,214] Trial 26 finished with value: 0.937210450368345 and parameters: {'rf_n_estimators': 1000, 'rf_criterion': 'entropy', 'rf_max_depth': 3, 'rf_min_samples_split': 0.1}. Best is trial 10 with value: 0.942241968557758.\n",
      "[I 2023-09-19 15:02:31,023] Trial 27 finished with value: 0.942241968557758 and parameters: {'rf_n_estimators': 500, 'rf_criterion': 'gini', 'rf_max_depth': 2, 'rf_min_samples_split': 0.1}. Best is trial 10 with value: 0.942241968557758.\n",
      "[I 2023-09-19 15:02:32,525] Trial 28 finished with value: 0.6256360598465861 and parameters: {'rf_n_estimators': 500, 'rf_criterion': 'entropy', 'rf_max_depth': 3, 'rf_min_samples_split': 1.0}. Best is trial 10 with value: 0.942241968557758.\n",
      "[I 2023-09-19 15:02:35,860] Trial 29 finished with value: 0.6256360598465861 and parameters: {'rf_n_estimators': 1000, 'rf_criterion': 'gini', 'rf_max_depth': 3, 'rf_min_samples_split': 1.0}. Best is trial 10 with value: 0.942241968557758.\n",
      "[I 2023-09-19 15:02:39,307] Trial 30 finished with value: 0.6256360598465861 and parameters: {'rf_n_estimators': 1000, 'rf_criterion': 'entropy', 'rf_max_depth': 1, 'rf_min_samples_split': 1.0}. Best is trial 10 with value: 0.942241968557758.\n",
      "[I 2023-09-19 15:02:42,688] Trial 31 finished with value: 0.6256360598465861 and parameters: {'rf_n_estimators': 1000, 'rf_criterion': 'gini', 'rf_max_depth': 1, 'rf_min_samples_split': 1.0}. Best is trial 10 with value: 0.942241968557758.\n",
      "[I 2023-09-19 15:02:44,604] Trial 32 finished with value: 0.9171223513328776 and parameters: {'rf_n_estimators': 500, 'rf_criterion': 'gini', 'rf_max_depth': 1, 'rf_min_samples_split': 0.1}. Best is trial 10 with value: 0.942241968557758.\n",
      "[I 2023-09-19 15:02:45,076] Trial 33 finished with value: 0.937210450368345 and parameters: {'rf_n_estimators': 100, 'rf_criterion': 'entropy', 'rf_max_depth': 3, 'rf_min_samples_split': 0.1}. Best is trial 10 with value: 0.942241968557758.\n"
     ]
    },
    {
     "name": "stderr",
     "output_type": "stream",
     "text": [
      "[I 2023-09-19 15:02:48,253] Trial 34 finished with value: 0.6256360598465861 and parameters: {'rf_n_estimators': 1000, 'rf_criterion': 'gini', 'rf_max_depth': 2, 'rf_min_samples_split': 1.0}. Best is trial 10 with value: 0.942241968557758.\n",
      "[I 2023-09-19 15:02:51,235] Trial 35 finished with value: 0.6256360598465861 and parameters: {'rf_n_estimators': 1000, 'rf_criterion': 'entropy', 'rf_max_depth': 3, 'rf_min_samples_split': 1.0}. Best is trial 10 with value: 0.942241968557758.\n"
     ]
    }
   ],
   "source": [
    "study = optuna.create_study(\n",
    "    direction=\"maximize\",\n",
    "    sampler=optuna.samplers.GridSampler(search_space),\n",
    ")\n",
    "\n",
    "study.optimize(objective)"
   ]
  },
  {
   "cell_type": "code",
   "execution_count": 22,
   "metadata": {},
   "outputs": [
    {
     "data": {
      "text/plain": [
       "{'rf_n_estimators': 100,\n",
       " 'rf_criterion': 'gini',\n",
       " 'rf_max_depth': 3,\n",
       " 'rf_min_samples_split': 0.1}"
      ]
     },
     "execution_count": 22,
     "metadata": {},
     "output_type": "execute_result"
    }
   ],
   "source": [
    "study.best_params"
   ]
  },
  {
   "cell_type": "code",
   "execution_count": 23,
   "metadata": {},
   "outputs": [
    {
     "data": {
      "text/plain": [
       "0.942241968557758"
      ]
     },
     "execution_count": 23,
     "metadata": {},
     "output_type": "execute_result"
    }
   ],
   "source": [
    "study.best_value"
   ]
  },
  {
   "cell_type": "code",
   "execution_count": null,
   "metadata": {},
   "outputs": [],
   "source": []
  }
 ],
 "metadata": {
  "kernelspec": {
   "display_name": "Python 3 (ipykernel)",
   "language": "python",
   "name": "python3"
  },
  "language_info": {
   "codemirror_mode": {
    "name": "ipython",
    "version": 3
   },
   "file_extension": ".py",
   "mimetype": "text/x-python",
   "name": "python",
   "nbconvert_exporter": "python",
   "pygments_lexer": "ipython3",
   "version": "3.11.2"
  },
  "toc": {
   "base_numbering": 1,
   "nav_menu": {},
   "number_sections": true,
   "sideBar": true,
   "skip_h1_title": false,
   "title_cell": "Table of Contents",
   "title_sidebar": "Contents",
   "toc_cell": false,
   "toc_position": {},
   "toc_section_display": true,
   "toc_window_display": true
  }
 },
 "nbformat": 4,
 "nbformat_minor": 4
}
